{
 "cells": [
  {
   "cell_type": "markdown",
   "id": "c2221f3d",
   "metadata": {},
   "source": [
    "# D208 Predictive Modeling Performance Assessment, Task \\# 2\n",
    "\n",
    "Submitted by William J Townsend, Student ID 003397146, for WGU's MSDA program\n",
    "\n",
    "## Table of Contents\n",
    "<ul>\n",
    "<li><a href=\"#PartA1\">A1: Research Question</a></li>\n",
    "<li><a href=\"#PartA2\">A2: Objectives and Goals of Analysis</a></li>\n",
    "<li><a href=\"#PartB1\">B1: Assumptions of a Logistic Regression Model</a></li>\n",
    "<li><a href=\"#PartB2\">B2: Benefits of Chosen Tools</a></li> \n",
    "<li><a href=\"#PartB3\">B3: Justification of Logistic Regression</a></li> \n",
    "<li><a href=\"#PartC1\">C1: Data Preparation Goals and Necessary Manipulation</a></li>\n",
    "<li><a href=\"#PartC2\">C2: Summary Statistics</a></li>\n",
    "<li><a href=\"#PartC3\">C3: Preparation of Data</a></li>\n",
    "<li><a href=\"#PartC4\">C4: Univariate and Bivariate Distributions</a></li>\n",
    "<li><a href=\"#PartC5\">C5: Copy of Prepared Data Set</a></li>\n",
    "<li><a href=\"#PartD1\">D1: Initial Logistic Regression Model</a></li>\n",
    "<li><a href=\"#PartD2\">D2: Reduction Justification</a></li>\n",
    "<li><a href=\"#PartD3\">D3: Reduced Logistic Regression Model</a></li>\n",
    "<li><a href=\"#PartE1\">E1: Analysis of Logistic Regression Models</a></li> \n",
    "<li><a href=\"#PartE2\">E2: Model Outputs</a></li> \n",
    "<li><a href=\"#PartE3\">E3: Model Code</a></li>\n",
    "<li><a href=\"#PartF1\">F1: Results of Data Analysis</a></li>\n",
    "<li><a href=\"#PartF2\">F2: Recommended Action</a></li>\n",
    "<li><a href=\"#PartG\">G: Panopto Recording</a></li>\n",
    "<li><a href=\"#PartH\">H: Code References</a></li>\n",
    "<li><a href=\"#PartI\">I: Source References</a></li>    \n",
    "</ul>"
   ]
  },
  {
   "cell_type": "markdown",
   "id": "4e3e0fbe",
   "metadata": {},
   "source": [
    "<a id='PartA1'></a>\n",
    "## A1: Research Question\n",
    "\n",
    "The research question that I want to examine is, \"Which factors most significantly contribute to patients diagnosed with chronic back pain?\" This is a broad topic, but chronic back pain is a problem for many Americans. Any hospital or healthcare system has to meet its' customers where they are, and this includes whatever ailments they have. Understanding how various ailments relate to each other, even if not specifically causal in nature, is important\n",
    "\n",
    "<a id=\"#PartA2\"></a>\n",
    "## A2: Objectives and Goals of Analysis\n",
    "\n",
    "By examining the relationships between several variables and a patient's diagnosis of chronic back pain, we can determine if other healthcare conditions or other patient data has any sort of detectable relationship with chronic back pain. Discovering these relationships can lead to efforts to address these potential complications, whether through patient education, treatment, or preemptive care. Hospitals are generally not a business which gets to recruit customers that it desires, nor do they get the ability to screen their customers in any particular way. At the same time, they're not even picked by the customers that they serve, as they're usually either the closest hospital to an emergency or the only hospital in a given area. As a result, hospitals have to meet their customers where they are in regards to their current health situation, including whatever ailments they have. \n",
    "\n",
    "Understanding how various ailments relate to each other, even if not specifically causal in nature, is important to both the customer and to the hospital, in that it provides insight into the individual's healthcare situation, including managing their current health issues and mitigating risks for new issues. The management of those current issues or mitigation of potential future issues is precisely the business of the hospital, and proactive and effective management of those concerns can help lead to better outcomes for currently hospitalized patients, while preventing tomorrow's issues, such as a patient's current hospitalization being extended, being re-hospitalized for the same issue, or even avoiding a future hospitalization for a potential complication or health risk which was avoided. \n",
    "\n",
    "<a id=\"#PartB1\"></a>\n",
    "## B1: Assumptions of a Logistic Regression Model\n",
    "\n",
    "Logistic regression is a model of whether or not an event or action occurs, using one or more independent (explanatory) variables and a single dependent (response) variable. Logistic regression depends upon 6 assumptions [(Statology, 2021)](https://www.statology.org/assumptions-of-logistic-regression/):\n",
    "\n",
    "- The response variable is binary in nature <br>\n",
    "The response (y) variable is impacted by the explanatory (x) variables, but the y variable can only have two states. This generally represents a True/False or Either/Or situation, but there must only be two unique values for the y variable in a logistic regression. \n",
    "\n",
    "- *None of the explanatory (x) variables being compared can be significantly correlated with each other (multicollinearity)* <br>\n",
    "Where x variables are closely related to each other, this confounds the logistic regression model's attempt to find a relationship between x and y, because the different x variables are essentially \"talking\" to each other throughout the process. The x variable's relationship to the y variable can only be ascertained if that relationship can actually be observed, and if other x variables are impacting the relationship through their multicollinearity, then that particular relationship cannot be judged because the relationship being observed is *actually* the relationship between multiple x variables and the single y variable. \n",
    "\n",
    "- *The observations are independent of each other* <br>\n",
    "Each row in a data set represents an observation.  If an observation is related to a prior observation, we run into a similar problem as multicollinearity, where different target y values are \"talking\" to each other throughout the process of trying to find a relationship between x and y. \n",
    "\n",
    "- There are no extreme outliers <br>\n",
    "Logistic regression assumes that there are no extreme outliers which negatively influence the fit of the regression line in the overall plot. The idea here is that if 99 of 100 datapoints are well represented by a regression line, and the 100th datapoint drags that regression line into a place where it no longer well describes neither the 99 datapoints or the 100th datapoint, the outlier should be eliminated. \n",
    "\n",
    "- There is a linear relationship between the explanatory (x) variables and the logit of the response (y) variable <br>\n",
    "Where linear regression required a linear relationship between the x and y variables, logistic regression requires a linear relationship between the x variable and the logit (or log-odds) of y. This is a significant distinction, as the logit maps probability values of y (which, remember, is a binary outcome) rather than a value of y as we saw in linear regression. \n",
    "\n",
    "- The sample size is sufficiently large <br> \n",
    "Logistic regression requires that the sample size is large enough that valid conclusions can be drawn from the model. If there are too few instances of a given outcome from an explanatory variable, then it cannot be determined if a relationship exists between that explanatory variable and the response variable. In such a situation, an unusual datapoint could have an overly large impact on the outcome and imply a conclusion that would not hold true with additional sampling. \n",
    "\n",
    "<a id=\"#PartB2\"></a>\n",
    "## B2: Benefits of Chosen Tools\n",
    "\n",
    "I will be using Python throughout this analysis project. Python is a programming language that supports data science processes very well, particularly in the use of packages designed specifically for this. Python also happens to be the only programming language that I know to any sort of significant degree. I'll also be using several Python packages to perform this analysis:\n",
    "- pandas allows for the handling of the dataset in something like a large table or spreadsheet\n",
    "- NumPy allows for performing certain mathematical operations or assignment of certain values within the dataset\n",
    "- Seaborn and MatPlotLib provide graphing functionality\n",
    "- SciPy's statsmodels provides several important functionalities for both the multiple regression model such as graphing residuals, as well as for checking problems such as multicolinearity using the variance inflation factor\n",
    "- sklearn's preprocessing is useful for transforming our data, when needed"
   ]
  },
  {
   "cell_type": "code",
   "execution_count": 1,
   "id": "c820437d",
   "metadata": {},
   "outputs": [
    {
     "name": "stdout",
     "output_type": "stream",
     "text": [
      "<class 'pandas.core.frame.DataFrame'>\n",
      "Int64Index: 10000 entries, 1 to 10000\n",
      "Data columns (total 49 columns):\n",
      " #   Column              Non-Null Count  Dtype  \n",
      "---  ------              --------------  -----  \n",
      " 0   Customer_id         10000 non-null  object \n",
      " 1   Interaction         10000 non-null  object \n",
      " 2   UID                 10000 non-null  object \n",
      " 3   City                10000 non-null  object \n",
      " 4   State               10000 non-null  object \n",
      " 5   County              10000 non-null  object \n",
      " 6   Zip                 10000 non-null  int64  \n",
      " 7   Lat                 10000 non-null  float64\n",
      " 8   Lng                 10000 non-null  float64\n",
      " 9   Population          10000 non-null  int64  \n",
      " 10  Area                10000 non-null  object \n",
      " 11  TimeZone            10000 non-null  object \n",
      " 12  Job                 10000 non-null  object \n",
      " 13  Children            10000 non-null  int64  \n",
      " 14  Age                 10000 non-null  int64  \n",
      " 15  Income              10000 non-null  float64\n",
      " 16  Marital             10000 non-null  object \n",
      " 17  Gender              10000 non-null  object \n",
      " 18  ReAdmis             10000 non-null  object \n",
      " 19  VitD_levels         10000 non-null  float64\n",
      " 20  Doc_visits          10000 non-null  int64  \n",
      " 21  Full_meals_eaten    10000 non-null  int64  \n",
      " 22  vitD_supp           10000 non-null  int64  \n",
      " 23  Soft_drink          10000 non-null  object \n",
      " 24  Initial_admin       10000 non-null  object \n",
      " 25  HighBlood           10000 non-null  object \n",
      " 26  Stroke              10000 non-null  object \n",
      " 27  Complication_risk   10000 non-null  object \n",
      " 28  Overweight          10000 non-null  object \n",
      " 29  Arthritis           10000 non-null  object \n",
      " 30  Diabetes            10000 non-null  object \n",
      " 31  Hyperlipidemia      10000 non-null  object \n",
      " 32  BackPain            10000 non-null  object \n",
      " 33  Anxiety             10000 non-null  object \n",
      " 34  Allergic_rhinitis   10000 non-null  object \n",
      " 35  Reflux_esophagitis  10000 non-null  object \n",
      " 36  Asthma              10000 non-null  object \n",
      " 37  Services            10000 non-null  object \n",
      " 38  Initial_days        10000 non-null  float64\n",
      " 39  TotalCharge         10000 non-null  float64\n",
      " 40  Additional_charges  10000 non-null  float64\n",
      " 41  Item1               10000 non-null  int64  \n",
      " 42  Item2               10000 non-null  int64  \n",
      " 43  Item3               10000 non-null  int64  \n",
      " 44  Item4               10000 non-null  int64  \n",
      " 45  Item5               10000 non-null  int64  \n",
      " 46  Item6               10000 non-null  int64  \n",
      " 47  Item7               10000 non-null  int64  \n",
      " 48  Item8               10000 non-null  int64  \n",
      "dtypes: float64(7), int64(15), object(27)\n",
      "memory usage: 3.8+ MB\n"
     ]
    }
   ],
   "source": [
    "import pandas as pd\n",
    "from pandas.api.types import CategoricalDtype\n",
    "import numpy as np\n",
    "import matplotlib.pyplot as plt\n",
    "import seaborn as sns\n",
    "from scipy import stats\n",
    "import statsmodels.api as sm\n",
    "from statsmodels.stats.outliers_influence import variance_inflation_factor\n",
    "from statsmodels.graphics.mosaicplot import mosaic\n",
    "from sklearn import preprocessing\n",
    "from sklearn.linear_model import LogisticRegression\n",
    "from sklearn.model_selection import train_test_split\n",
    "from sklearn.metrics import confusion_matrix\n",
    "\n",
    "# The CSV's first column is an index and Pandas will duplicate this and create an column without 'index_col=0'\n",
    "df = pd.read_csv('./medical_clean.csv', index_col=0)\n",
    "# Check data types and number of values, as well as overall size of dataframe\n",
    "df.info()"
   ]
  },
  {
   "cell_type": "code",
   "execution_count": 2,
   "id": "767f1917",
   "metadata": {},
   "outputs": [
    {
     "data": {
      "text/html": [
       "<div>\n",
       "<style scoped>\n",
       "    .dataframe tbody tr th:only-of-type {\n",
       "        vertical-align: middle;\n",
       "    }\n",
       "\n",
       "    .dataframe tbody tr th {\n",
       "        vertical-align: top;\n",
       "    }\n",
       "\n",
       "    .dataframe thead th {\n",
       "        text-align: right;\n",
       "    }\n",
       "</style>\n",
       "<table border=\"1\" class=\"dataframe\">\n",
       "  <thead>\n",
       "    <tr style=\"text-align: right;\">\n",
       "      <th></th>\n",
       "      <th>Customer_id</th>\n",
       "      <th>Interaction</th>\n",
       "      <th>UID</th>\n",
       "      <th>City</th>\n",
       "      <th>State</th>\n",
       "      <th>County</th>\n",
       "      <th>Zip</th>\n",
       "      <th>Lat</th>\n",
       "      <th>Lng</th>\n",
       "      <th>Population</th>\n",
       "      <th>Area</th>\n",
       "      <th>TimeZone</th>\n",
       "      <th>Job</th>\n",
       "      <th>Children</th>\n",
       "      <th>Age</th>\n",
       "      <th>Income</th>\n",
       "      <th>Marital</th>\n",
       "      <th>Gender</th>\n",
       "      <th>ReAdmis</th>\n",
       "      <th>VitD_levels</th>\n",
       "      <th>Doc_visits</th>\n",
       "      <th>Full_meals_eaten</th>\n",
       "      <th>vitD_supp</th>\n",
       "      <th>Soft_drink</th>\n",
       "      <th>Initial_admin</th>\n",
       "      <th>HighBlood</th>\n",
       "      <th>Stroke</th>\n",
       "      <th>Complication_risk</th>\n",
       "      <th>Overweight</th>\n",
       "      <th>Arthritis</th>\n",
       "      <th>Diabetes</th>\n",
       "      <th>Hyperlipidemia</th>\n",
       "      <th>BackPain</th>\n",
       "      <th>Anxiety</th>\n",
       "      <th>Allergic_rhinitis</th>\n",
       "      <th>Reflux_esophagitis</th>\n",
       "      <th>Asthma</th>\n",
       "      <th>Services</th>\n",
       "      <th>Initial_days</th>\n",
       "      <th>TotalCharge</th>\n",
       "      <th>Additional_charges</th>\n",
       "      <th>Item1</th>\n",
       "      <th>Item2</th>\n",
       "      <th>Item3</th>\n",
       "      <th>Item4</th>\n",
       "      <th>Item5</th>\n",
       "      <th>Item6</th>\n",
       "      <th>Item7</th>\n",
       "      <th>Item8</th>\n",
       "    </tr>\n",
       "    <tr>\n",
       "      <th>CaseOrder</th>\n",
       "      <th></th>\n",
       "      <th></th>\n",
       "      <th></th>\n",
       "      <th></th>\n",
       "      <th></th>\n",
       "      <th></th>\n",
       "      <th></th>\n",
       "      <th></th>\n",
       "      <th></th>\n",
       "      <th></th>\n",
       "      <th></th>\n",
       "      <th></th>\n",
       "      <th></th>\n",
       "      <th></th>\n",
       "      <th></th>\n",
       "      <th></th>\n",
       "      <th></th>\n",
       "      <th></th>\n",
       "      <th></th>\n",
       "      <th></th>\n",
       "      <th></th>\n",
       "      <th></th>\n",
       "      <th></th>\n",
       "      <th></th>\n",
       "      <th></th>\n",
       "      <th></th>\n",
       "      <th></th>\n",
       "      <th></th>\n",
       "      <th></th>\n",
       "      <th></th>\n",
       "      <th></th>\n",
       "      <th></th>\n",
       "      <th></th>\n",
       "      <th></th>\n",
       "      <th></th>\n",
       "      <th></th>\n",
       "      <th></th>\n",
       "      <th></th>\n",
       "      <th></th>\n",
       "      <th></th>\n",
       "      <th></th>\n",
       "      <th></th>\n",
       "      <th></th>\n",
       "      <th></th>\n",
       "      <th></th>\n",
       "      <th></th>\n",
       "      <th></th>\n",
       "      <th></th>\n",
       "      <th></th>\n",
       "    </tr>\n",
       "  </thead>\n",
       "  <tbody>\n",
       "    <tr>\n",
       "      <th>1</th>\n",
       "      <td>C412403</td>\n",
       "      <td>8cd49b13-f45a-4b47-a2bd-173ffa932c2f</td>\n",
       "      <td>3a83ddb66e2ae73798bdf1d705dc0932</td>\n",
       "      <td>Eva</td>\n",
       "      <td>AL</td>\n",
       "      <td>Morgan</td>\n",
       "      <td>35621</td>\n",
       "      <td>34.34960</td>\n",
       "      <td>-86.72508</td>\n",
       "      <td>2951</td>\n",
       "      <td>Suburban</td>\n",
       "      <td>America/Chicago</td>\n",
       "      <td>Psychologist, sport and exercise</td>\n",
       "      <td>1</td>\n",
       "      <td>53</td>\n",
       "      <td>86575.93</td>\n",
       "      <td>Divorced</td>\n",
       "      <td>Male</td>\n",
       "      <td>No</td>\n",
       "      <td>19.141466</td>\n",
       "      <td>6</td>\n",
       "      <td>0</td>\n",
       "      <td>0</td>\n",
       "      <td>No</td>\n",
       "      <td>Emergency Admission</td>\n",
       "      <td>Yes</td>\n",
       "      <td>No</td>\n",
       "      <td>Medium</td>\n",
       "      <td>No</td>\n",
       "      <td>Yes</td>\n",
       "      <td>Yes</td>\n",
       "      <td>No</td>\n",
       "      <td>Yes</td>\n",
       "      <td>Yes</td>\n",
       "      <td>Yes</td>\n",
       "      <td>No</td>\n",
       "      <td>Yes</td>\n",
       "      <td>Blood Work</td>\n",
       "      <td>10.585770</td>\n",
       "      <td>3726.702860</td>\n",
       "      <td>17939.403420</td>\n",
       "      <td>3</td>\n",
       "      <td>3</td>\n",
       "      <td>2</td>\n",
       "      <td>2</td>\n",
       "      <td>4</td>\n",
       "      <td>3</td>\n",
       "      <td>3</td>\n",
       "      <td>4</td>\n",
       "    </tr>\n",
       "    <tr>\n",
       "      <th>2</th>\n",
       "      <td>Z919181</td>\n",
       "      <td>d2450b70-0337-4406-bdbb-bc1037f1734c</td>\n",
       "      <td>176354c5eef714957d486009feabf195</td>\n",
       "      <td>Marianna</td>\n",
       "      <td>FL</td>\n",
       "      <td>Jackson</td>\n",
       "      <td>32446</td>\n",
       "      <td>30.84513</td>\n",
       "      <td>-85.22907</td>\n",
       "      <td>11303</td>\n",
       "      <td>Urban</td>\n",
       "      <td>America/Chicago</td>\n",
       "      <td>Community development worker</td>\n",
       "      <td>3</td>\n",
       "      <td>51</td>\n",
       "      <td>46805.99</td>\n",
       "      <td>Married</td>\n",
       "      <td>Female</td>\n",
       "      <td>No</td>\n",
       "      <td>18.940352</td>\n",
       "      <td>4</td>\n",
       "      <td>2</td>\n",
       "      <td>1</td>\n",
       "      <td>No</td>\n",
       "      <td>Emergency Admission</td>\n",
       "      <td>Yes</td>\n",
       "      <td>No</td>\n",
       "      <td>High</td>\n",
       "      <td>Yes</td>\n",
       "      <td>No</td>\n",
       "      <td>No</td>\n",
       "      <td>No</td>\n",
       "      <td>No</td>\n",
       "      <td>No</td>\n",
       "      <td>No</td>\n",
       "      <td>Yes</td>\n",
       "      <td>No</td>\n",
       "      <td>Intravenous</td>\n",
       "      <td>15.129562</td>\n",
       "      <td>4193.190458</td>\n",
       "      <td>17612.998120</td>\n",
       "      <td>3</td>\n",
       "      <td>4</td>\n",
       "      <td>3</td>\n",
       "      <td>4</td>\n",
       "      <td>4</td>\n",
       "      <td>4</td>\n",
       "      <td>3</td>\n",
       "      <td>3</td>\n",
       "    </tr>\n",
       "    <tr>\n",
       "      <th>3</th>\n",
       "      <td>F995323</td>\n",
       "      <td>a2057123-abf5-4a2c-abad-8ffe33512562</td>\n",
       "      <td>e19a0fa00aeda885b8a436757e889bc9</td>\n",
       "      <td>Sioux Falls</td>\n",
       "      <td>SD</td>\n",
       "      <td>Minnehaha</td>\n",
       "      <td>57110</td>\n",
       "      <td>43.54321</td>\n",
       "      <td>-96.63772</td>\n",
       "      <td>17125</td>\n",
       "      <td>Suburban</td>\n",
       "      <td>America/Chicago</td>\n",
       "      <td>Chief Executive Officer</td>\n",
       "      <td>3</td>\n",
       "      <td>53</td>\n",
       "      <td>14370.14</td>\n",
       "      <td>Widowed</td>\n",
       "      <td>Female</td>\n",
       "      <td>No</td>\n",
       "      <td>18.057507</td>\n",
       "      <td>4</td>\n",
       "      <td>1</td>\n",
       "      <td>0</td>\n",
       "      <td>No</td>\n",
       "      <td>Elective Admission</td>\n",
       "      <td>Yes</td>\n",
       "      <td>No</td>\n",
       "      <td>Medium</td>\n",
       "      <td>Yes</td>\n",
       "      <td>No</td>\n",
       "      <td>Yes</td>\n",
       "      <td>No</td>\n",
       "      <td>No</td>\n",
       "      <td>No</td>\n",
       "      <td>No</td>\n",
       "      <td>No</td>\n",
       "      <td>No</td>\n",
       "      <td>Blood Work</td>\n",
       "      <td>4.772177</td>\n",
       "      <td>2434.234222</td>\n",
       "      <td>17505.192460</td>\n",
       "      <td>2</td>\n",
       "      <td>4</td>\n",
       "      <td>4</td>\n",
       "      <td>4</td>\n",
       "      <td>3</td>\n",
       "      <td>4</td>\n",
       "      <td>3</td>\n",
       "      <td>3</td>\n",
       "    </tr>\n",
       "    <tr>\n",
       "      <th>4</th>\n",
       "      <td>A879973</td>\n",
       "      <td>1dec528d-eb34-4079-adce-0d7a40e82205</td>\n",
       "      <td>cd17d7b6d152cb6f23957346d11c3f07</td>\n",
       "      <td>New Richland</td>\n",
       "      <td>MN</td>\n",
       "      <td>Waseca</td>\n",
       "      <td>56072</td>\n",
       "      <td>43.89744</td>\n",
       "      <td>-93.51479</td>\n",
       "      <td>2162</td>\n",
       "      <td>Suburban</td>\n",
       "      <td>America/Chicago</td>\n",
       "      <td>Early years teacher</td>\n",
       "      <td>0</td>\n",
       "      <td>78</td>\n",
       "      <td>39741.49</td>\n",
       "      <td>Married</td>\n",
       "      <td>Male</td>\n",
       "      <td>No</td>\n",
       "      <td>16.576858</td>\n",
       "      <td>4</td>\n",
       "      <td>1</td>\n",
       "      <td>0</td>\n",
       "      <td>No</td>\n",
       "      <td>Elective Admission</td>\n",
       "      <td>No</td>\n",
       "      <td>Yes</td>\n",
       "      <td>Medium</td>\n",
       "      <td>No</td>\n",
       "      <td>Yes</td>\n",
       "      <td>No</td>\n",
       "      <td>No</td>\n",
       "      <td>No</td>\n",
       "      <td>No</td>\n",
       "      <td>No</td>\n",
       "      <td>Yes</td>\n",
       "      <td>Yes</td>\n",
       "      <td>Blood Work</td>\n",
       "      <td>1.714879</td>\n",
       "      <td>2127.830423</td>\n",
       "      <td>12993.437350</td>\n",
       "      <td>3</td>\n",
       "      <td>5</td>\n",
       "      <td>5</td>\n",
       "      <td>3</td>\n",
       "      <td>4</td>\n",
       "      <td>5</td>\n",
       "      <td>5</td>\n",
       "      <td>5</td>\n",
       "    </tr>\n",
       "    <tr>\n",
       "      <th>5</th>\n",
       "      <td>C544523</td>\n",
       "      <td>5885f56b-d6da-43a3-8760-83583af94266</td>\n",
       "      <td>d2f0425877b10ed6bb381f3e2579424a</td>\n",
       "      <td>West Point</td>\n",
       "      <td>VA</td>\n",
       "      <td>King William</td>\n",
       "      <td>23181</td>\n",
       "      <td>37.59894</td>\n",
       "      <td>-76.88958</td>\n",
       "      <td>5287</td>\n",
       "      <td>Rural</td>\n",
       "      <td>America/New_York</td>\n",
       "      <td>Health promotion specialist</td>\n",
       "      <td>1</td>\n",
       "      <td>22</td>\n",
       "      <td>1209.56</td>\n",
       "      <td>Widowed</td>\n",
       "      <td>Female</td>\n",
       "      <td>No</td>\n",
       "      <td>17.439069</td>\n",
       "      <td>5</td>\n",
       "      <td>0</td>\n",
       "      <td>2</td>\n",
       "      <td>Yes</td>\n",
       "      <td>Elective Admission</td>\n",
       "      <td>No</td>\n",
       "      <td>No</td>\n",
       "      <td>Low</td>\n",
       "      <td>No</td>\n",
       "      <td>No</td>\n",
       "      <td>No</td>\n",
       "      <td>Yes</td>\n",
       "      <td>No</td>\n",
       "      <td>No</td>\n",
       "      <td>Yes</td>\n",
       "      <td>No</td>\n",
       "      <td>No</td>\n",
       "      <td>CT Scan</td>\n",
       "      <td>1.254807</td>\n",
       "      <td>2113.073274</td>\n",
       "      <td>3716.525786</td>\n",
       "      <td>2</td>\n",
       "      <td>1</td>\n",
       "      <td>3</td>\n",
       "      <td>3</td>\n",
       "      <td>5</td>\n",
       "      <td>3</td>\n",
       "      <td>4</td>\n",
       "      <td>3</td>\n",
       "    </tr>\n",
       "  </tbody>\n",
       "</table>\n",
       "</div>"
      ],
      "text/plain": [
       "          Customer_id                           Interaction  \\\n",
       "CaseOrder                                                     \n",
       "1             C412403  8cd49b13-f45a-4b47-a2bd-173ffa932c2f   \n",
       "2             Z919181  d2450b70-0337-4406-bdbb-bc1037f1734c   \n",
       "3             F995323  a2057123-abf5-4a2c-abad-8ffe33512562   \n",
       "4             A879973  1dec528d-eb34-4079-adce-0d7a40e82205   \n",
       "5             C544523  5885f56b-d6da-43a3-8760-83583af94266   \n",
       "\n",
       "                                        UID          City State        County  \\\n",
       "CaseOrder                                                                       \n",
       "1          3a83ddb66e2ae73798bdf1d705dc0932           Eva    AL        Morgan   \n",
       "2          176354c5eef714957d486009feabf195      Marianna    FL       Jackson   \n",
       "3          e19a0fa00aeda885b8a436757e889bc9   Sioux Falls    SD     Minnehaha   \n",
       "4          cd17d7b6d152cb6f23957346d11c3f07  New Richland    MN        Waseca   \n",
       "5          d2f0425877b10ed6bb381f3e2579424a    West Point    VA  King William   \n",
       "\n",
       "             Zip       Lat       Lng  Population      Area          TimeZone  \\\n",
       "CaseOrder                                                                      \n",
       "1          35621  34.34960 -86.72508        2951  Suburban   America/Chicago   \n",
       "2          32446  30.84513 -85.22907       11303     Urban   America/Chicago   \n",
       "3          57110  43.54321 -96.63772       17125  Suburban   America/Chicago   \n",
       "4          56072  43.89744 -93.51479        2162  Suburban   America/Chicago   \n",
       "5          23181  37.59894 -76.88958        5287     Rural  America/New_York   \n",
       "\n",
       "                                        Job  Children  Age    Income  \\\n",
       "CaseOrder                                                              \n",
       "1          Psychologist, sport and exercise         1   53  86575.93   \n",
       "2              Community development worker         3   51  46805.99   \n",
       "3                   Chief Executive Officer         3   53  14370.14   \n",
       "4                       Early years teacher         0   78  39741.49   \n",
       "5               Health promotion specialist         1   22   1209.56   \n",
       "\n",
       "            Marital  Gender ReAdmis  VitD_levels  Doc_visits  \\\n",
       "CaseOrder                                                      \n",
       "1          Divorced    Male      No    19.141466           6   \n",
       "2           Married  Female      No    18.940352           4   \n",
       "3           Widowed  Female      No    18.057507           4   \n",
       "4           Married    Male      No    16.576858           4   \n",
       "5           Widowed  Female      No    17.439069           5   \n",
       "\n",
       "           Full_meals_eaten  vitD_supp Soft_drink        Initial_admin  \\\n",
       "CaseOrder                                                                \n",
       "1                         0          0         No  Emergency Admission   \n",
       "2                         2          1         No  Emergency Admission   \n",
       "3                         1          0         No   Elective Admission   \n",
       "4                         1          0         No   Elective Admission   \n",
       "5                         0          2        Yes   Elective Admission   \n",
       "\n",
       "          HighBlood Stroke Complication_risk Overweight Arthritis Diabetes  \\\n",
       "CaseOrder                                                                    \n",
       "1               Yes     No            Medium         No       Yes      Yes   \n",
       "2               Yes     No              High        Yes        No       No   \n",
       "3               Yes     No            Medium        Yes        No      Yes   \n",
       "4                No    Yes            Medium         No       Yes       No   \n",
       "5                No     No               Low         No        No       No   \n",
       "\n",
       "          Hyperlipidemia BackPain Anxiety Allergic_rhinitis  \\\n",
       "CaseOrder                                                     \n",
       "1                     No      Yes     Yes               Yes   \n",
       "2                     No       No      No                No   \n",
       "3                     No       No      No                No   \n",
       "4                     No       No      No                No   \n",
       "5                    Yes       No      No               Yes   \n",
       "\n",
       "          Reflux_esophagitis Asthma     Services  Initial_days  TotalCharge  \\\n",
       "CaseOrder                                                                     \n",
       "1                         No    Yes   Blood Work     10.585770  3726.702860   \n",
       "2                        Yes     No  Intravenous     15.129562  4193.190458   \n",
       "3                         No     No   Blood Work      4.772177  2434.234222   \n",
       "4                        Yes    Yes   Blood Work      1.714879  2127.830423   \n",
       "5                         No     No      CT Scan      1.254807  2113.073274   \n",
       "\n",
       "           Additional_charges  Item1  Item2  Item3  Item4  Item5  Item6  \\\n",
       "CaseOrder                                                                 \n",
       "1                17939.403420      3      3      2      2      4      3   \n",
       "2                17612.998120      3      4      3      4      4      4   \n",
       "3                17505.192460      2      4      4      4      3      4   \n",
       "4                12993.437350      3      5      5      3      4      5   \n",
       "5                 3716.525786      2      1      3      3      5      3   \n",
       "\n",
       "           Item7  Item8  \n",
       "CaseOrder                \n",
       "1              3      4  \n",
       "2              3      3  \n",
       "3              3      3  \n",
       "4              5      5  \n",
       "5              4      3  "
      ]
     },
     "execution_count": 2,
     "metadata": {},
     "output_type": "execute_result"
    }
   ],
   "source": [
    "# Visually inspect dataframe to facilitate exploration, spot problems\n",
    "pd.set_option(\"display.max_columns\", None)\n",
    "df.head(5)"
   ]
  },
  {
   "cell_type": "markdown",
   "id": "5d955d2d",
   "metadata": {},
   "source": [
    "<a id=\"#PartB3\"></a>\n",
    "## B3: Justification of Logistic Regression\n",
    "\n",
    "Logistic regression is used to model the relationship between a binary categorical dependent variable and multiple other independent variables, which may be either continuous or categorical. This dependent variable is generally True/False or Yes/No in nature, but it could be an Either/Or of some other sort of categorical data, such as Malignant/Benign. In this case, I want to examine the relationship between several x varaibles and a patient's diagnosis of chronic back pain. This diagnosis is a categorical variable with only two possible values (Yes/No). Because the variable of interest (response variable) is a categorical variable which is binary in nature, it should be suitable for logistic regression, allowing it to be compared to a number of potential explanatory variables. \n",
    "\n",
    "<a id=\"#PartC1\"></a>\n",
    "## C1: Data Preparation Goals and Necessary Manipulation\n",
    "\n",
    "While the data set provided by WGU is described as being \"clean\", it is not very well cleaned, including missing several fixes that were performed in D206: Data Cleaning. For example, zip codes are stored as an int64, eliminating leading zeros and assumed to be whole numbers, rather than the qualitative strings that they actually should be. Similarly, timezones are storedin 26 different non-descriptive \"timezones\" which should instead be standardized to the 9 US time zones. I will reapply much of the code that I previously used in my D208 Task 1 project to fix these issues, with some modifications. \n",
    "\n",
    "Logistic regression analysis requires numerical values be provided rather than strings for the various categorical and boolean types of data in this data set. The booleans can easily be remapped from True/False values to either 1/0 numeric values. The categorical variables will have to be handled differently, based upon whether or not they are ordinal (the order of the category values matters, such as \"big\", \"bigger\", \"biggest\") or nominal (order does not matter) in nature. \n",
    "\n",
    "There are several different categorical data types in this data set which are not boolean in nature (already handled). Of these columns, only the survey scores columns are ordinal in nature. The original intention for these columns as described in the data dictionary was that 1 = \"most important\" and \"8\" = \"least important\", which is somewhat unintuitive when they are numerically represented. As a result, what I'll do is actually remap these values to reflect a more intuitive pattern where `1 < 8` is actually True. Once that is done, then I can convert these columns to an ordered categorical datatype similar to what was done in D208. \n",
    "\n",
    "For the nominal categorical columns, those columns which are going to be used in this analysis require the generation of dummy columns, which represent categorical data in a binary numeric form. For example, the gender column contains values for Female, Male, and Nonbinary. Two columns can be created which will actually communicate the same information. If a 1 appears in the first column, then the patient is male. If a 1 appears in the second column, then the patient is nonbinary. If a 1 appears in neither column (both 0), then the patient is female. This process, called one hot encoding [(WGU Courseware Resources)](https://wgu.hosted.panopto.com/Panopto/Pages/Viewer.aspx?id=15e09c73-c5aa-439d-852f-af47001b8970), allows us to easily represent string data in a numeric fashion that the regression analysis can handle. This can easily be done by using pandas' `get_dummies()` function.\n",
    "\n",
    "These are the primary changes required for performing a logistic regression analysis on this dataset. Some other functions will be run to verify that the data is ready for multiple regression analysis, such as `info()` to make sure that there are no null values and verify the datatypes for each column, `value_counts()` to check all of the values in a column, or `describe()` to display summary statistics for a numeric column.\n",
    "\n",
    "<a id=\"#PartC2\"></a>\n",
    "## C2: Summary Statistics\n",
    "\n",
    "The variables which I intend to examine for this analysis include the `BackPain` variable (the dependent variable, y) and the following independent variables (the explanatory variables, x):\n",
    "\n",
    "- Children <br>\n",
    "This variable was examined in the D207 project. Where I expected to see a significantly decreasing curve as number of children increased, we instead saw several plateaus, with similar numbers patients with 5 - 10 children."
   ]
  },
  {
   "cell_type": "code",
   "execution_count": 3,
   "id": "468485c8",
   "metadata": {},
   "outputs": [
    {
     "data": {
      "text/plain": [
       "0     2548\n",
       "1     2509\n",
       "2     1475\n",
       "3     1489\n",
       "4      995\n",
       "5      169\n",
       "6      191\n",
       "7      213\n",
       "8      209\n",
       "9      108\n",
       "10      94\n",
       "Name: Children, dtype: int64"
      ]
     },
     "execution_count": 3,
     "metadata": {},
     "output_type": "execute_result"
    }
   ],
   "source": [
    "df.Children.value_counts().sort_index()"
   ]
  },
  {
   "cell_type": "markdown",
   "id": "bf2f1c10",
   "metadata": {},
   "source": [
    "- Age <br> \n",
    "Age is a variable that I expect to see have a significant relationship with chronic back pain, because it is an affliction that is generally expected to be see amongst older people in American society. \n",
    "\n",
    "One noticeable thing about our data from the summary statistics is that no patients are under the age of 18. I noted this as a particular limitation of my multiple regression project, where I examined lengths of hospitalization related to several variables, including age. This issue is going to be less of a problem for this analysis, because children generally do not have chronic back pain, unless they've suffered some sort of precipitating event such as an injury, serious illness, or accident. In such a circumstance, that causation is likely going to fall outside the realm of this analysis. "
   ]
  },
  {
   "cell_type": "code",
   "execution_count": 4,
   "id": "054a26fe",
   "metadata": {},
   "outputs": [
    {
     "data": {
      "text/plain": [
       "count    10000.000000\n",
       "mean        53.511700\n",
       "std         20.638538\n",
       "min         18.000000\n",
       "25%         36.000000\n",
       "50%         53.000000\n",
       "75%         71.000000\n",
       "max         89.000000\n",
       "Name: Age, dtype: float64"
      ]
     },
     "execution_count": 4,
     "metadata": {},
     "output_type": "execute_result"
    }
   ],
   "source": [
    "df.Age.describe()"
   ]
  },
  {
   "cell_type": "markdown",
   "id": "16f25f7a",
   "metadata": {},
   "source": [
    "- Gender <br>\n",
    "I mentioned in my D206 project that this variable is flawed in the way it chooses to break down the variety of genders to only 3 possibilities. Nonetheless, this is the data that we have, so this cannot really be helped. The data reflects that about 50% of patients are female, nearly 48% are male, and just over 2% are nonbinary. "
   ]
  },
  {
   "cell_type": "code",
   "execution_count": 5,
   "id": "47424694",
   "metadata": {},
   "outputs": [
    {
     "data": {
      "text/plain": [
       "Female       5018\n",
       "Male         4768\n",
       "Nonbinary     214\n",
       "Name: Gender, dtype: int64"
      ]
     },
     "execution_count": 5,
     "metadata": {},
     "output_type": "execute_result"
    }
   ],
   "source": [
    "df.Gender.value_counts()"
   ]
  },
  {
   "cell_type": "markdown",
   "id": "82606851",
   "metadata": {},
   "source": [
    "- Vitamin D Level <br>\n",
    "These statistics show a mean very close to 18, with a standard deviation of just over 2. The minimum and the maximum are just outside of 4 standard deviations away from the mean, with an inner quartertile range between 16.6 and 19.4. This reflects a distribution that is approximately normal. "
   ]
  },
  {
   "cell_type": "code",
   "execution_count": 6,
   "id": "b9d43353",
   "metadata": {},
   "outputs": [
    {
     "data": {
      "text/plain": [
       "count    10000.000000\n",
       "mean        17.964262\n",
       "std          2.017231\n",
       "min          9.806483\n",
       "25%         16.626439\n",
       "50%         17.951122\n",
       "75%         19.347963\n",
       "max         26.394449\n",
       "Name: VitD_levels, dtype: float64"
      ]
     },
     "execution_count": 6,
     "metadata": {},
     "output_type": "execute_result"
    }
   ],
   "source": [
    "df.VitD_levels.describe()"
   ]
  },
  {
   "cell_type": "markdown",
   "id": "84e2b6c9",
   "metadata": {},
   "source": [
    "- Reason for Initial Admission <br>\n",
    "Just over half of hospitalized patients in this dataset are initially admitted for an emergency. This is consistent with what we would expect (or might even be lower than we'd expect), because the hospital is generally where we go for emergencies, which we obviously try to avoid having. The remaining half of hospitalized patients are split almost evenly between being being admitted for observation or for an elective procedure. "
   ]
  },
  {
   "cell_type": "code",
   "execution_count": 7,
   "id": "588ac893",
   "metadata": {},
   "outputs": [
    {
     "data": {
      "text/plain": [
       "Elective Admission       2504\n",
       "Emergency Admission      5060\n",
       "Observation Admission    2436\n",
       "Name: Initial_admin, dtype: int64"
      ]
     },
     "execution_count": 7,
     "metadata": {},
     "output_type": "execute_result"
    }
   ],
   "source": [
    "df.Initial_admin.value_counts().sort_index()"
   ]
  },
  {
   "cell_type": "markdown",
   "id": "cb938fe8",
   "metadata": {},
   "source": [
    "- High Blood Pressure <br>\n",
    "High blood pressure is a health condition that impacts many Americans. Approximately 59% of the patients in this dataset do not have a diagnosis of high blood pressure, while 41% do have high blood pressure."
   ]
  },
  {
   "cell_type": "code",
   "execution_count": 8,
   "id": "e988be77",
   "metadata": {},
   "outputs": [
    {
     "data": {
      "text/plain": [
       "No     5910\n",
       "Yes    4090\n",
       "Name: HighBlood, dtype: int64"
      ]
     },
     "execution_count": 8,
     "metadata": {},
     "output_type": "execute_result"
    }
   ],
   "source": [
    "df.HighBlood.value_counts()"
   ]
  },
  {
   "cell_type": "markdown",
   "id": "5c923b16",
   "metadata": {},
   "source": [
    "- Complication Risk <br>\n",
    "Approximately 45% of patients have a Medium risk of complications during their hospitalization. Only 21% have a Low risk of complication, while the remaining 34% have a High risk of complication. "
   ]
  },
  {
   "cell_type": "code",
   "execution_count": 9,
   "id": "f8e92d4e",
   "metadata": {},
   "outputs": [
    {
     "data": {
      "text/plain": [
       "High      3358\n",
       "Low       2125\n",
       "Medium    4517\n",
       "Name: Complication_risk, dtype: int64"
      ]
     },
     "execution_count": 9,
     "metadata": {},
     "output_type": "execute_result"
    }
   ],
   "source": [
    "df.Complication_risk.value_counts().sort_index()"
   ]
  },
  {
   "cell_type": "markdown",
   "id": "d04d5c30",
   "metadata": {},
   "source": [
    "- Overweight <br>\n",
    "Approximately 71% of the dataset's patients are overweight, compared to just 29% that are not. "
   ]
  },
  {
   "cell_type": "code",
   "execution_count": 10,
   "id": "1ecc1ef5",
   "metadata": {},
   "outputs": [
    {
     "data": {
      "text/plain": [
       "Yes    7094\n",
       "No     2906\n",
       "Name: Overweight, dtype: int64"
      ]
     },
     "execution_count": 10,
     "metadata": {},
     "output_type": "execute_result"
    }
   ],
   "source": [
    "df.Overweight.value_counts()"
   ]
  },
  {
   "cell_type": "markdown",
   "id": "bda025c8",
   "metadata": {},
   "source": [
    "- Arthritis <br>\n",
    "35% of hospitalized patients in this dataset have arthritis."
   ]
  },
  {
   "cell_type": "code",
   "execution_count": 11,
   "id": "35ea491d",
   "metadata": {},
   "outputs": [
    {
     "data": {
      "text/plain": [
       "No     6426\n",
       "Yes    3574\n",
       "Name: Arthritis, dtype: int64"
      ]
     },
     "execution_count": 11,
     "metadata": {},
     "output_type": "execute_result"
    }
   ],
   "source": [
    "df.Arthritis.value_counts()"
   ]
  },
  {
   "cell_type": "markdown",
   "id": "e49f65b5",
   "metadata": {},
   "source": [
    "- Diabetes <br>\n",
    "27% of the patients in this dataset have been diagnosed with diabetes. "
   ]
  },
  {
   "cell_type": "code",
   "execution_count": 12,
   "id": "c2578120",
   "metadata": {},
   "outputs": [
    {
     "data": {
      "text/plain": [
       "No     7262\n",
       "Yes    2738\n",
       "Name: Diabetes, dtype: int64"
      ]
     },
     "execution_count": 12,
     "metadata": {},
     "output_type": "execute_result"
    }
   ],
   "source": [
    "df.Diabetes.value_counts()"
   ]
  },
  {
   "cell_type": "markdown",
   "id": "074bc07b",
   "metadata": {},
   "source": [
    "- Asthma <br>\n",
    "Approximately 29% of the patients in this dataset have been diagnosed with asthma. While not intuitively directly related to chronic back pain, I can see where asthma might lead to decreased fitness that could eventually lead to back pain, so I think its a reasonable variable to include in this analysis. "
   ]
  },
  {
   "cell_type": "code",
   "execution_count": 13,
   "id": "91a3846b",
   "metadata": {},
   "outputs": [
    {
     "data": {
      "text/plain": [
       "No     7107\n",
       "Yes    2893\n",
       "Name: Asthma, dtype: int64"
      ]
     },
     "execution_count": 13,
     "metadata": {},
     "output_type": "execute_result"
    }
   ],
   "source": [
    "df.Asthma.value_counts()"
   ]
  },
  {
   "cell_type": "markdown",
   "id": "47123df3",
   "metadata": {},
   "source": [
    "- Length of hospitalization <br>\n",
    "Length of hospitalization is unlikely to have a bearing on back pain, but there are few continuous variables that I can incorporate into the analysis, so I'm including it anyways. \n",
    "\n",
    "Within this dataset, the mean number of days spent hospitalized is 34, but the standard deviation is very large, at 26 days. The data as a whole ranges from 1 day to 72 days. This puts the minimum at 1.27 standard deviations from the mean, while the maximum is 1.5 standard deviations from the mean. This indicates that the distribution is skewed a bit to one side. Again, a quick check of the largest values for this variable shows that the maximum of ~72 days is not an isolated outlier."
   ]
  },
  {
   "cell_type": "code",
   "execution_count": 14,
   "id": "5d0d3d7b",
   "metadata": {},
   "outputs": [
    {
     "data": {
      "text/plain": [
       "count    10000.000000\n",
       "mean        34.455299\n",
       "std         26.309341\n",
       "min          1.001981\n",
       "25%          7.896215\n",
       "50%         35.836244\n",
       "75%         61.161020\n",
       "max         71.981490\n",
       "Name: Initial_days, dtype: float64"
      ]
     },
     "execution_count": 14,
     "metadata": {},
     "output_type": "execute_result"
    }
   ],
   "source": [
    "df.Initial_days.describe()"
   ]
  },
  {
   "cell_type": "code",
   "execution_count": 15,
   "id": "42181dfb",
   "metadata": {},
   "outputs": [
    {
     "data": {
      "text/plain": [
       "CaseOrder\n",
       "7969    71.98149\n",
       "5327    71.96869\n",
       "7480    71.96546\n",
       "6167    71.96415\n",
       "8067    71.96342\n",
       "5875    71.96164\n",
       "5830    71.96134\n",
       "9160    71.95813\n",
       "8818    71.95472\n",
       "7525    71.94732\n",
       "9075    71.94459\n",
       "7840    71.92930\n",
       "9678    71.92647\n",
       "9222    71.92413\n",
       "5163    71.92171\n",
       "9102    71.90712\n",
       "9767    71.90694\n",
       "5375    71.90056\n",
       "6602    71.89863\n",
       "7215    71.89805\n",
       "Name: Initial_days, dtype: float64"
      ]
     },
     "execution_count": 15,
     "metadata": {},
     "output_type": "execute_result"
    }
   ],
   "source": [
    "df.Initial_days.nlargest(n=20)"
   ]
  },
  {
   "cell_type": "markdown",
   "id": "9aadb145",
   "metadata": {},
   "source": [
    "All of the previous statistics describe the independent variables, which we are testing for a relationship with diagnoses for chronic back pain. As such, the summary statistics for chronic back pain must also be presented here. Within the dataset, 41% of patients have chronic back pain, while the other 59% do not. "
   ]
  },
  {
   "cell_type": "code",
   "execution_count": 16,
   "id": "65d31731",
   "metadata": {},
   "outputs": [
    {
     "data": {
      "text/plain": [
       "No     5886\n",
       "Yes    4114\n",
       "Name: BackPain, dtype: int64"
      ]
     },
     "execution_count": 16,
     "metadata": {},
     "output_type": "execute_result"
    }
   ],
   "source": [
    "df.BackPain.value_counts()"
   ]
  },
  {
   "cell_type": "markdown",
   "id": "b56dd5ed",
   "metadata": {},
   "source": [
    "<a id=\"#PartC3\"></a>\n",
    "## C3: Preparation of Data\n",
    "\n",
    "As explained in more detail above in the data prep goals and necessary manipulation section, the data will be cleaned using some of the same code that I used in D206, though some elements are modified. Zip codes are returned back to being strings, rather than integers. Time zones are re-standardized to the 9 US time zones. Categorical columns are cast to categorical, rather than being string objects. Those categorical columns which are boolean in nature are instead remapped to integer (1 = True/Yes, 0 = False/No). The currency columns will be rounded to more accurately reflect the handling of US currency (not to 6 decimals of precision). Finally, the survey response columns will be cast as an ordered categorical datatype, though they will be modified to reverse the scale, such that 1 < 8, rather than the current process of 1 > 8. Finally, the categorical datatypes being used for the multiple regression analysis will be \"dummied\" using one-hot encoding. For ease of use, a new dataframe will be constructed with all of the necessary columns included for the regression, omitting the ~40 columns which are not needed. "
   ]
  },
  {
   "cell_type": "code",
   "execution_count": 17,
   "id": "f2597ba2",
   "metadata": {},
   "outputs": [
    {
     "data": {
      "text/html": [
       "<div>\n",
       "<style scoped>\n",
       "    .dataframe tbody tr th:only-of-type {\n",
       "        vertical-align: middle;\n",
       "    }\n",
       "\n",
       "    .dataframe tbody tr th {\n",
       "        vertical-align: top;\n",
       "    }\n",
       "\n",
       "    .dataframe thead th {\n",
       "        text-align: right;\n",
       "    }\n",
       "</style>\n",
       "<table border=\"1\" class=\"dataframe\">\n",
       "  <thead>\n",
       "    <tr style=\"text-align: right;\">\n",
       "      <th></th>\n",
       "      <th>num_children</th>\n",
       "      <th>age</th>\n",
       "      <th>gender_male</th>\n",
       "      <th>gender_nonbinary</th>\n",
       "      <th>vit_d_level</th>\n",
       "      <th>initial_admit_observ</th>\n",
       "      <th>initial_admit_emerg</th>\n",
       "      <th>high_bp</th>\n",
       "      <th>comp_risk_low</th>\n",
       "      <th>comp_risk_medium</th>\n",
       "      <th>overweight</th>\n",
       "      <th>arthritis</th>\n",
       "      <th>diabetes</th>\n",
       "      <th>back_pain</th>\n",
       "      <th>asthma</th>\n",
       "      <th>days_hospitalized</th>\n",
       "    </tr>\n",
       "    <tr>\n",
       "      <th>CaseOrder</th>\n",
       "      <th></th>\n",
       "      <th></th>\n",
       "      <th></th>\n",
       "      <th></th>\n",
       "      <th></th>\n",
       "      <th></th>\n",
       "      <th></th>\n",
       "      <th></th>\n",
       "      <th></th>\n",
       "      <th></th>\n",
       "      <th></th>\n",
       "      <th></th>\n",
       "      <th></th>\n",
       "      <th></th>\n",
       "      <th></th>\n",
       "      <th></th>\n",
       "    </tr>\n",
       "  </thead>\n",
       "  <tbody>\n",
       "    <tr>\n",
       "      <th>1</th>\n",
       "      <td>1</td>\n",
       "      <td>53</td>\n",
       "      <td>1</td>\n",
       "      <td>1</td>\n",
       "      <td>19.141466</td>\n",
       "      <td>0</td>\n",
       "      <td>1</td>\n",
       "      <td>1</td>\n",
       "      <td>0</td>\n",
       "      <td>1</td>\n",
       "      <td>0</td>\n",
       "      <td>1</td>\n",
       "      <td>1</td>\n",
       "      <td>1</td>\n",
       "      <td>1</td>\n",
       "      <td>10.585770</td>\n",
       "    </tr>\n",
       "    <tr>\n",
       "      <th>2</th>\n",
       "      <td>3</td>\n",
       "      <td>51</td>\n",
       "      <td>0</td>\n",
       "      <td>0</td>\n",
       "      <td>18.940352</td>\n",
       "      <td>0</td>\n",
       "      <td>1</td>\n",
       "      <td>1</td>\n",
       "      <td>0</td>\n",
       "      <td>0</td>\n",
       "      <td>1</td>\n",
       "      <td>0</td>\n",
       "      <td>0</td>\n",
       "      <td>0</td>\n",
       "      <td>0</td>\n",
       "      <td>15.129562</td>\n",
       "    </tr>\n",
       "    <tr>\n",
       "      <th>3</th>\n",
       "      <td>3</td>\n",
       "      <td>53</td>\n",
       "      <td>0</td>\n",
       "      <td>0</td>\n",
       "      <td>18.057507</td>\n",
       "      <td>0</td>\n",
       "      <td>0</td>\n",
       "      <td>1</td>\n",
       "      <td>0</td>\n",
       "      <td>1</td>\n",
       "      <td>1</td>\n",
       "      <td>0</td>\n",
       "      <td>1</td>\n",
       "      <td>0</td>\n",
       "      <td>0</td>\n",
       "      <td>4.772177</td>\n",
       "    </tr>\n",
       "    <tr>\n",
       "      <th>4</th>\n",
       "      <td>0</td>\n",
       "      <td>78</td>\n",
       "      <td>1</td>\n",
       "      <td>1</td>\n",
       "      <td>16.576858</td>\n",
       "      <td>0</td>\n",
       "      <td>0</td>\n",
       "      <td>0</td>\n",
       "      <td>0</td>\n",
       "      <td>1</td>\n",
       "      <td>0</td>\n",
       "      <td>1</td>\n",
       "      <td>0</td>\n",
       "      <td>0</td>\n",
       "      <td>1</td>\n",
       "      <td>1.714879</td>\n",
       "    </tr>\n",
       "    <tr>\n",
       "      <th>5</th>\n",
       "      <td>1</td>\n",
       "      <td>22</td>\n",
       "      <td>0</td>\n",
       "      <td>0</td>\n",
       "      <td>17.439069</td>\n",
       "      <td>0</td>\n",
       "      <td>0</td>\n",
       "      <td>0</td>\n",
       "      <td>1</td>\n",
       "      <td>0</td>\n",
       "      <td>0</td>\n",
       "      <td>0</td>\n",
       "      <td>0</td>\n",
       "      <td>0</td>\n",
       "      <td>0</td>\n",
       "      <td>1.254807</td>\n",
       "    </tr>\n",
       "    <tr>\n",
       "      <th>...</th>\n",
       "      <td>...</td>\n",
       "      <td>...</td>\n",
       "      <td>...</td>\n",
       "      <td>...</td>\n",
       "      <td>...</td>\n",
       "      <td>...</td>\n",
       "      <td>...</td>\n",
       "      <td>...</td>\n",
       "      <td>...</td>\n",
       "      <td>...</td>\n",
       "      <td>...</td>\n",
       "      <td>...</td>\n",
       "      <td>...</td>\n",
       "      <td>...</td>\n",
       "      <td>...</td>\n",
       "      <td>...</td>\n",
       "    </tr>\n",
       "    <tr>\n",
       "      <th>9996</th>\n",
       "      <td>2</td>\n",
       "      <td>25</td>\n",
       "      <td>1</td>\n",
       "      <td>1</td>\n",
       "      <td>16.980860</td>\n",
       "      <td>0</td>\n",
       "      <td>1</td>\n",
       "      <td>1</td>\n",
       "      <td>0</td>\n",
       "      <td>1</td>\n",
       "      <td>0</td>\n",
       "      <td>0</td>\n",
       "      <td>0</td>\n",
       "      <td>0</td>\n",
       "      <td>0</td>\n",
       "      <td>51.561220</td>\n",
       "    </tr>\n",
       "    <tr>\n",
       "      <th>9997</th>\n",
       "      <td>4</td>\n",
       "      <td>87</td>\n",
       "      <td>1</td>\n",
       "      <td>1</td>\n",
       "      <td>18.177020</td>\n",
       "      <td>0</td>\n",
       "      <td>0</td>\n",
       "      <td>1</td>\n",
       "      <td>0</td>\n",
       "      <td>1</td>\n",
       "      <td>1</td>\n",
       "      <td>1</td>\n",
       "      <td>1</td>\n",
       "      <td>0</td>\n",
       "      <td>1</td>\n",
       "      <td>68.668240</td>\n",
       "    </tr>\n",
       "    <tr>\n",
       "      <th>9998</th>\n",
       "      <td>3</td>\n",
       "      <td>45</td>\n",
       "      <td>0</td>\n",
       "      <td>0</td>\n",
       "      <td>17.129070</td>\n",
       "      <td>0</td>\n",
       "      <td>0</td>\n",
       "      <td>1</td>\n",
       "      <td>0</td>\n",
       "      <td>0</td>\n",
       "      <td>1</td>\n",
       "      <td>0</td>\n",
       "      <td>0</td>\n",
       "      <td>0</td>\n",
       "      <td>0</td>\n",
       "      <td>70.154180</td>\n",
       "    </tr>\n",
       "    <tr>\n",
       "      <th>9999</th>\n",
       "      <td>3</td>\n",
       "      <td>43</td>\n",
       "      <td>1</td>\n",
       "      <td>1</td>\n",
       "      <td>19.910430</td>\n",
       "      <td>0</td>\n",
       "      <td>1</td>\n",
       "      <td>0</td>\n",
       "      <td>0</td>\n",
       "      <td>1</td>\n",
       "      <td>1</td>\n",
       "      <td>0</td>\n",
       "      <td>0</td>\n",
       "      <td>1</td>\n",
       "      <td>0</td>\n",
       "      <td>63.356900</td>\n",
       "    </tr>\n",
       "    <tr>\n",
       "      <th>10000</th>\n",
       "      <td>8</td>\n",
       "      <td>70</td>\n",
       "      <td>0</td>\n",
       "      <td>0</td>\n",
       "      <td>18.388620</td>\n",
       "      <td>1</td>\n",
       "      <td>0</td>\n",
       "      <td>0</td>\n",
       "      <td>1</td>\n",
       "      <td>0</td>\n",
       "      <td>1</td>\n",
       "      <td>1</td>\n",
       "      <td>0</td>\n",
       "      <td>0</td>\n",
       "      <td>0</td>\n",
       "      <td>70.850590</td>\n",
       "    </tr>\n",
       "  </tbody>\n",
       "</table>\n",
       "<p>10000 rows × 16 columns</p>\n",
       "</div>"
      ],
      "text/plain": [
       "           num_children  age  gender_male  gender_nonbinary  vit_d_level  \\\n",
       "CaseOrder                                                                  \n",
       "1                     1   53            1                 1    19.141466   \n",
       "2                     3   51            0                 0    18.940352   \n",
       "3                     3   53            0                 0    18.057507   \n",
       "4                     0   78            1                 1    16.576858   \n",
       "5                     1   22            0                 0    17.439069   \n",
       "...                 ...  ...          ...               ...          ...   \n",
       "9996                  2   25            1                 1    16.980860   \n",
       "9997                  4   87            1                 1    18.177020   \n",
       "9998                  3   45            0                 0    17.129070   \n",
       "9999                  3   43            1                 1    19.910430   \n",
       "10000                 8   70            0                 0    18.388620   \n",
       "\n",
       "           initial_admit_observ  initial_admit_emerg  high_bp  comp_risk_low  \\\n",
       "CaseOrder                                                                      \n",
       "1                             0                    1        1              0   \n",
       "2                             0                    1        1              0   \n",
       "3                             0                    0        1              0   \n",
       "4                             0                    0        0              0   \n",
       "5                             0                    0        0              1   \n",
       "...                         ...                  ...      ...            ...   \n",
       "9996                          0                    1        1              0   \n",
       "9997                          0                    0        1              0   \n",
       "9998                          0                    0        1              0   \n",
       "9999                          0                    1        0              0   \n",
       "10000                         1                    0        0              1   \n",
       "\n",
       "           comp_risk_medium  overweight  arthritis  diabetes  back_pain  \\\n",
       "CaseOrder                                                                 \n",
       "1                         1           0          1         1          1   \n",
       "2                         0           1          0         0          0   \n",
       "3                         1           1          0         1          0   \n",
       "4                         1           0          1         0          0   \n",
       "5                         0           0          0         0          0   \n",
       "...                     ...         ...        ...       ...        ...   \n",
       "9996                      1           0          0         0          0   \n",
       "9997                      1           1          1         1          0   \n",
       "9998                      0           1          0         0          0   \n",
       "9999                      1           1          0         0          1   \n",
       "10000                     0           1          1         0          0   \n",
       "\n",
       "           asthma  days_hospitalized  \n",
       "CaseOrder                             \n",
       "1               1          10.585770  \n",
       "2               0          15.129562  \n",
       "3               0           4.772177  \n",
       "4               1           1.714879  \n",
       "5               0           1.254807  \n",
       "...           ...                ...  \n",
       "9996            0          51.561220  \n",
       "9997            1          68.668240  \n",
       "9998            0          70.154180  \n",
       "9999            0          63.356900  \n",
       "10000           0          70.850590  \n",
       "\n",
       "[10000 rows x 16 columns]"
      ]
     },
     "execution_count": 17,
     "metadata": {},
     "output_type": "execute_result"
    }
   ],
   "source": [
    "# Convert column to string from int, then front-fill string with 0's to reach 5 chars\n",
    "df['Zip'] = df['Zip'].astype(\"str\").str.zfill(5)\n",
    "# Convert column to category from string\n",
    "df[\"Area\"] = df[\"Area\"].astype(\"category\")\n",
    "# Replace city-specific values with time-zone specific values\n",
    "df.TimeZone.replace({\n",
    "    # Puerto Rico does not observe DST, stays on Atlantic Standard Time all year long\n",
    "    \"America/Puerto_Rico\" : \"US - Puerto Rico\",\n",
    "    # US - Eastern observes DST\n",
    "    \"America/New_York\": \"US - Eastern\",\n",
    "    \"America/Detroit\" : \"US - Eastern\",\n",
    "    \"America/Indiana/Indianapolis\" : \"US - Eastern\",\n",
    "    \"America/Indiana/Vevay\" : \"US - Eastern\",\n",
    "    \"America/Indiana/Vincennes\" : \"US - Eastern\",\n",
    "    \"America/Kentucky/Louisville\" : \"US - Eastern\",\n",
    "    \"America/Toronto\" : \"US - Eastern\",\n",
    "    \"America/Indiana/Marengo\" : \"US - Eastern\",\n",
    "    \"America/Indiana/Winamac\" : \"US - Eastern\",\n",
    "    # US - Central observes DST\n",
    "    \"America/Chicago\" : \"US - Central\", \n",
    "    \"America/Menominee\" : \"US - Central\",\n",
    "    \"America/Indiana/Knox\" : \"US - Central\",\n",
    "    \"America/Indiana/Tell_City\" : \"US - Central\",\n",
    "    \"America/North_Dakota/Beulah\" : \"US - Central\",\n",
    "    \"America/North_Dakota/New_Salem\" : \"US - Central\",\n",
    "    # US - Mountain observes DST\n",
    "    \"America/Denver\" : \"US - Mountain\",\n",
    "    \"America/Boise\" : \"US - Mountain\",\n",
    "    # Arizona does not observe DST, stays on Mountain Standard Time all year long\n",
    "    \"America/Phoenix\" : \"US - Arizona\",\n",
    "    # US - Pacific observes DST\n",
    "    \"America/Los_Angeles\" : \"US - Pacific\",\n",
    "    # US - Alaskan observes DST\n",
    "    \"America/Nome\" : \"US - Alaskan\",\n",
    "    \"America/Anchorage\" : \"US - Alaskan\",\n",
    "    \"America/Sitka\" : \"US - Alaskan\",\n",
    "    \"America/Yakutat\" : \"US - Alaskan\",\n",
    "    # US - Aleutian observes DST\n",
    "    \"America/Adak\" : \"US - Aleutian\",\n",
    "    # US - Hawaiian does not observe DST, stays on Hawaii Standard Time all year\n",
    "    \"Pacific/Honolulu\" : \"US - Hawaiian\" \n",
    "    }, inplace=True)\n",
    "# Convert column to category from string\n",
    "df[\"TimeZone\"] = df[\"TimeZone\"].astype(\"category\")\n",
    "# Reformat column representing currency in USD to 3 decimal places from 6\n",
    "df[\"Income\"] = df[\"Income\"].astype(int)\n",
    "# Convert column to category from string\n",
    "df[\"Marital\"] = df[\"Marital\"].astype(\"category\")\n",
    "# Convert column to category from string\n",
    "df[\"Gender\"] = df[\"Gender\"].astype(\"category\")\n",
    "# Recast object > boolean wants to turn everything True, need to map Yes/No to True/False\n",
    "bool_mapping = {\"Yes\" : 1, \"No\" : 0}\n",
    "# Convert column to boolean from string\n",
    "df[\"ReAdmis\"] = df[\"ReAdmis\"].map(bool_mapping)\n",
    "# Convert column to boolean from string\n",
    "df[\"Soft_drink\"] = df[\"Soft_drink\"].map(bool_mapping)\n",
    "# Convert column to category from string\n",
    "df[\"Initial_admin\"] = df[\"Initial_admin\"].astype(\"category\")\n",
    "# Convert column to boolean from string\n",
    "df[\"HighBlood\"] = df[\"HighBlood\"].map(bool_mapping)\n",
    "# Convert column to boolean from string\n",
    "df[\"Stroke\"] = df[\"Stroke\"].map(bool_mapping)\n",
    "# Convert column to category from string\n",
    "df[\"Complication_risk\"] = df[\"Complication_risk\"].astype(\"category\")\n",
    "# Convert column to boolean from string\n",
    "df[\"Overweight\"] = df[\"Overweight\"].map(bool_mapping)\n",
    "# Convert column to boolean from string\n",
    "df[\"Arthritis\"] = df[\"Arthritis\"].map(bool_mapping)\n",
    "# Convert column to boolean from string\n",
    "df[\"Diabetes\"] = df[\"Diabetes\"].map(bool_mapping)\n",
    "# Convert column to boolean from string\n",
    "df[\"Hyperlipidemia\"] = df[\"Hyperlipidemia\"].map(bool_mapping)\n",
    "# Convert column to boolean from string\n",
    "df[\"BackPain\"] = df[\"BackPain\"].map(bool_mapping)\n",
    "# Convert column to boolean from string\n",
    "df[\"Anxiety\"] = df[\"Anxiety\"].map(bool_mapping)\n",
    "# Convert column to boolean from string\n",
    "df[\"Allergic_rhinitis\"] = df[\"Allergic_rhinitis\"].map(bool_mapping)\n",
    "# Convert column to boolean from string\n",
    "df[\"Reflux_esophagitis\"] = df[\"Reflux_esophagitis\"].map(bool_mapping)\n",
    "# Convert column to boolean from string\n",
    "df[\"Asthma\"] = df[\"Asthma\"].map(bool_mapping)\n",
    "# Convert column to category from string\n",
    "df[\"Services\"] = df[\"Services\"].astype(\"category\")\n",
    "# Reformat column representing currency in USD to 3 decimal places from 6\n",
    "df[\"TotalCharge\"] = df.TotalCharge.round(3)\n",
    "# Reformat column representing currency in USD to 3 decimal places from 6\n",
    "df[\"Additional_charges\"] = df.Additional_charges.round(3)\n",
    "# Establish map for reversing survey questions to reflect a truth where 1 < 8 (currently the reverse)\n",
    "survey_mapping = {1: 8, 2: 7, 3 : 6, 4: 5, 5: 4, 6: 3, 7 : 2, 8 : 1}\n",
    "# Establish ordered categorical datatype structure (\"1\" < \"2\" < ... < \"7\" < \"8\") for survey response columns\n",
    "survey_scores = CategoricalDtype(categories=[\"1\", \"2\", \"3\", \"4\", \"5\", \"6\", \"7\", \"8\"], ordered=True)\n",
    "# Remap column to reflect 1 < 8, rather than 1 > 8\n",
    "df[\"Item1\"] = df[\"Item1\"].map(survey_mapping)\n",
    "# Map integers to be strings instead (conversion from int > ordered categorical will act up without this)\n",
    "df[\"Item1\"] = df[\"Item1\"].map(str)\n",
    "# Reassign datatype from strings to created survey_scores datatype \n",
    "df[\"Item1\"] = df[\"Item1\"].astype(survey_scores)\n",
    "# Remap column to reflect 1 < 8, rather than 1 > 8\n",
    "df[\"Item2\"] = df[\"Item2\"].map(survey_mapping)\n",
    "# Map integers to be strings instead (conversion from int > ordered categorical will act up without this)\n",
    "df[\"Item2\"] = df[\"Item2\"].map(str)\n",
    "# Reassign datatype from strings to created survey_scores datatype \n",
    "df[\"Item2\"] = df[\"Item2\"].astype(survey_scores)\n",
    "# Remap column to reflect 1 < 8, rather than 1 > 8\n",
    "df[\"Item3\"] = df[\"Item3\"].map(survey_mapping)\n",
    "# Map integers to be strings instead (conversion from int > ordered categorical will act up without this)\n",
    "df[\"Item3\"] = df[\"Item3\"].map(str)\n",
    "# Reassign datatype from strings to created survey_scores datatype \n",
    "df[\"Item3\"] = df[\"Item3\"].astype(survey_scores)\n",
    "# Remap column to reflect 1 < 8, rather than 1 > 8\n",
    "df[\"Item4\"] = df[\"Item4\"].map(survey_mapping)\n",
    "# Map integers to be strings instead (conversion from int > ordered categorical will act up without this)\n",
    "df[\"Item4\"] = df[\"Item4\"].map(str)\n",
    "# Reassign datatype from strings to created survey_scores datatype \n",
    "df[\"Item4\"] = df[\"Item4\"].astype(survey_scores)\n",
    "# Remap column to reflect 1 < 8, rather than 1 > 8\n",
    "df[\"Item5\"] = df[\"Item5\"].map(survey_mapping)\n",
    "# Map integers to be strings instead (conversion from int > ordered categorical will act up without this)\n",
    "df[\"Item5\"] = df[\"Item5\"].map(str)\n",
    "# Reassign datatype from strings to created survey_scores datatype \n",
    "df[\"Item5\"] = df[\"Item5\"].astype(survey_scores)\n",
    "# Remap column to reflect 1 < 8, rather than 1 > 8\n",
    "df[\"Item6\"] = df[\"Item6\"].map(survey_mapping)\n",
    "# Map integers to be strings instead (conversion from int > ordered categorical will act up without this)\n",
    "df[\"Item6\"] = df[\"Item6\"].map(str)\n",
    "# Reassign datatype from strings to created survey_scores datatype \n",
    "df[\"Item6\"] = df[\"Item6\"].astype(survey_scores)\n",
    "# Remap column to reflect 1 < 8, rather than 1 > 8\n",
    "df[\"Item7\"] = df[\"Item7\"].map(survey_mapping)\n",
    "# Map integers to be strings instead (conversion from int > ordered categorical will act up without this)\n",
    "df[\"Item7\"] = df[\"Item7\"].map(str)\n",
    "# Reassign datatype from strings to created survey_scores datatype \n",
    "df[\"Item7\"] = df[\"Item7\"].astype(survey_scores)\n",
    "# Remap column to reflect 1 < 8, rather than 1 > 8\n",
    "df[\"Item8\"] = df[\"Item8\"].map(survey_mapping)\n",
    "# Map integers to be strings instead (conversion from int > ordered categorical will act up without this)\n",
    "df[\"Item8\"] = df[\"Item8\"].map(str)\n",
    "# Reassign datatype from strings to created survey_scores datatype \n",
    "df[\"Item8\"] = df[\"Item8\"].astype(survey_scores)\n",
    "# Generate columns of dummy values for dataframe's Gender column\n",
    "gender_temp_df = pd.get_dummies(data=df[\"Gender\"], drop_first=True)\n",
    "# Generate columns of dummy values for dataframe's Initial_admin column\n",
    "initial_admit_temp_df = pd.get_dummies(data=df[\"Initial_admin\"], drop_first=True)\n",
    "# Generate columns of dummy values for dataframe's Complication_risk column\n",
    "comp_risk_temp_df = pd.get_dummies(data=df[\"Complication_risk\"], drop_first=True)\n",
    "# Create new df with only the variables we're interested in\n",
    "regress_df = df[[\"Children\", \"Age\", \"VitD_levels\", \"HighBlood\", \"Overweight\", \"Arthritis\", \"Diabetes\", \"BackPain\", \"Asthma\", \"Initial_days\"]]\n",
    "# Generate and apply Pythonic names because the non-Pythonic names annoy me\n",
    "pythonic_columns = [\"num_children\", \"age\", \"vit_d_level\", \"high_bp\", \"overweight\", \"arthritis\", \"diabetes\", \"back_pain\", \"asthma\", \"days_hospitalized\"]\n",
    "regress_df.set_axis(pythonic_columns, axis=1, inplace=True)\n",
    "# Insert the generated dummy variables to new dataframe, placing them in the same order as the original dataframe\n",
    "# Dummies for Complication Risk\n",
    "regress_df.insert(4, \"comp_risk_medium\", comp_risk_temp_df.Medium)\n",
    "regress_df.insert(4, \"comp_risk_low\", comp_risk_temp_df.Low)\n",
    "# Dummies for Initial Admit\n",
    "regress_df.insert(3, \"initial_admit_emerg\", initial_admit_temp_df[\"Emergency Admission\"])\n",
    "regress_df.insert(3, \"initial_admit_observ\", initial_admit_temp_df[\"Observation Admission\"])\n",
    "# Dummies for Gender\n",
    "regress_df.insert(2, \"gender_nonbinary\", gender_temp_df.Male)\n",
    "regress_df.insert(2, \"gender_male\", gender_temp_df.Male)\n",
    "# Check resulting dataframe\n",
    "regress_df"
   ]
  },
  {
   "cell_type": "markdown",
   "id": "1f449edb",
   "metadata": {},
   "source": [
    "<a id=\"#PartC4\"></a>\n",
    "## C4: Univariate and Bivariate Distributions\n",
    "\n",
    "Before examining each of the explanatory variables, it seems prudent to examine the dependent variable first. "
   ]
  },
  {
   "cell_type": "code",
   "execution_count": 18,
   "id": "d20f5a3b",
   "metadata": {},
   "outputs": [
    {
     "data": {
      "image/png": "[encoded data removed]",
      "text/plain": [
       "<Figure size 1152x360 with 1 Axes>"
      ]
     },
     "metadata": {},
     "output_type": "display_data"
    }
   ],
   "source": [
    "plt.figure(figsize = [16,5])\n",
    "plt.title('Distribution of Patients with Chronic Back Pain')\n",
    "back_pain_counts = regress_df.back_pain.value_counts()\n",
    "back_pain_labels = [\"No Back Pain\", \"Chronic Back Pain\"]\n",
    "plt.pie(back_pain_counts, labels=back_pain_labels, autopct='%1.1f%%', startangle=90, counterclock=False)\n",
    "plt.axis('square');"
   ]
  },
  {
   "cell_type": "code",
   "execution_count": 19,
   "id": "9e13823e",
   "metadata": {},
   "outputs": [
    {
     "data": {
      "image/png": "[encoded data removed]",
      "text/plain": [
       "<Figure size 1152x360 with 2 Axes>"
      ]
     },
     "metadata": {
      "needs_background": "light"
     },
     "output_type": "display_data"
    }
   ],
   "source": [
    "plt.figure(figsize = [16,5])\n",
    "plt.suptitle(\"Exploration of Number of Children in Patient's Household\")\n",
    "\n",
    "# LEFT plot: Univariate exploration of num_children\n",
    "plt.subplot(1, 2, 1)\n",
    "plt.title('Distribution of Children in Patient Household')\n",
    "bins = np.arange(0, regress_df.num_children.max() + 1, 1)\n",
    "plt.hist(data=regress_df, x=\"num_children\", bins=bins)\n",
    "plt.xlabel('Number of Children')\n",
    "plt.ylabel(\"Number of Patients\");\n",
    "\n",
    "# RIGHT plot: Bivariate exploration of num_children vs back_pain\n",
    "plt.subplot(1, 2, 2)\n",
    "plt.title(\"Relationship of Children vs Back Pain\")\n",
    "sns.countplot(data = regress_df, x=\"num_children\", hue=\"back_pain\")\n",
    "plt.legend([\"No Back Pain\", \"Back Pain\"])\n",
    "plt.xlabel(\"Number of Children\")\n",
    "plt.ylabel(\"County of Patients with Back Pain\");"
   ]
  },
  {
   "cell_type": "code",
   "execution_count": 20,
   "id": "f04e0bcf",
   "metadata": {},
   "outputs": [
    {
     "data": {
      "image/png": "[encoded data removed]",
      "text/plain": [
       "<Figure size 1152x360 with 2 Axes>"
      ]
     },
     "metadata": {
      "needs_background": "light"
     },
     "output_type": "display_data"
    }
   ],
   "source": [
    "plt.figure(figsize = [16,5])\n",
    "plt.suptitle(\"Exploration of Patient's Age\")\n",
    "\n",
    "# LEFT plot: Univariate exploration of age\n",
    "plt.subplot(1, 2, 1)\n",
    "plt.title('Distribution of Patient Age')\n",
    "bins = np.arange(0, 100, 1)\n",
    "plt.hist(data=regress_df, x=\"age\", bins=bins)\n",
    "plt.xlabel('Patient Age')\n",
    "plt.ylabel(\"Number of Patients\");\n",
    "\n",
    "# RIGHT plot: Bivariate exploration of age vs back_pain\n",
    "plt.subplot(1, 2, 2)\n",
    "plt.title(\"Relationship of Age vs Back Pain\")\n",
    "sns.violinplot(data = regress_df, x=\"age\", y=\"back_pain\", orient='h')\n",
    "plt.xlabel(\"Patient Age\")\n",
    "plt.ylabel(\"Patient Back Pain\")\n",
    "plt.yticks([0,1], [\"False\", \"True\"]);"
   ]
  },
  {
   "cell_type": "code",
   "execution_count": 21,
   "id": "0721fb3e",
   "metadata": {},
   "outputs": [
    {
     "data": {
      "image/png": "[encoded data removed]",
      "text/plain": [
       "<Figure size 1152x360 with 2 Axes>"
      ]
     },
     "metadata": {
      "needs_background": "light"
     },
     "output_type": "display_data"
    }
   ],
   "source": [
    "plt.figure(figsize = [16,5])\n",
    "plt.suptitle(\"Exploration of Patient's Age\")\n",
    "\n",
    "# LEFT plot: Univariate exploration of age\n",
    "plt.subplot(1, 2, 1)\n",
    "plt.title('Distribution of Patient Age')\n",
    "bins = np.arange(0, 100, 1)\n",
    "plt.hist(data=regress_df, x=\"age\", bins=bins)\n",
    "plt.xlabel('Patient Age')\n",
    "plt.ylabel(\"Number of Patients\");\n",
    "\n",
    "# RIGHT plot: Bivariate exploration of age vs back_pain\n",
    "plt.subplot(1, 2, 2)\n",
    "plt.title(\"Relationship of Age vs Back Pain\")\n",
    "sns.histplot(data = regress_df, x=\"age\", hue=\"back_pain\", bins=bins, kde=True, multiple=\"stack\")\n",
    "plt.legend(title=\"Back Pain\", labels=[\"Yes\", \"No\"])\n",
    "plt.xlabel(\"Patient Age\")\n",
    "plt.ylabel(\"Number of Patients\");"
   ]
  },
  {
   "cell_type": "code",
   "execution_count": 22,
   "id": "a702ef1c",
   "metadata": {},
   "outputs": [
    {
     "data": {
      "image/png": "[encoded data removed]",
      "text/plain": [
       "<Figure size 1152x360 with 2 Axes>"
      ]
     },
     "metadata": {
      "needs_background": "light"
     },
     "output_type": "display_data"
    }
   ],
   "source": [
    "plt.figure(figsize = [16,5])\n",
    "plt.suptitle(\"Exploration of Patient's Gender\")\n",
    "\n",
    "# LEFT plot: Univariate exploration of num_children\n",
    "plt.subplot(1, 2, 1)\n",
    "plt.title(\"Patient Gender Distribution\")\n",
    "gender_counts = df[\"Gender\"].value_counts()\n",
    "plt.pie(gender_counts, labels=gender_counts.index, autopct='%1.1f%%', startangle=90, counterclock = False)\n",
    "plt.axis('square');\n",
    "\n",
    "# RIGHT plot: Bivariate exploration of num_children vs back_pain\n",
    "plt.subplot(1, 2, 2)\n",
    "plt.title(\"Relationship of Gender vs Hospitalization Length\")\n",
    "sns.countplot(data = df, x=\"Gender\", hue=\"BackPain\")\n",
    "plt.legend([\"No Back Pain\", \"Back Pain\"])\n",
    "plt.xlabel(\"Patient Gender\")\n",
    "plt.ylabel(\"Number of Patients\");"
   ]
  },
  {
   "cell_type": "code",
   "execution_count": 23,
   "id": "d6fbea98",
   "metadata": {},
   "outputs": [
    {
     "data": {
      "image/png": "[encoded data removed]",
      "text/plain": [
       "<Figure size 1152x360 with 3 Axes>"
      ]
     },
     "metadata": {
      "needs_background": "light"
     },
     "output_type": "display_data"
    }
   ],
   "source": [
    "plt.figure(figsize = [16,5])\n",
    "plt.suptitle(\"Exploration of Patient's Vitamin D Level\")\n",
    "\n",
    "# LEFT plot: Univariate exploration of vit_d_level\n",
    "plt.subplot(1, 2, 1)\n",
    "plt.title('Distribution of Patient Vitamin D Level')\n",
    "bins = np.arange(9, 27, 0.5)\n",
    "plt.hist(data=regress_df, x=\"vit_d_level\", bins=bins)\n",
    "plt.xlabel('Patient Vitamin D Level')\n",
    "plt.ylabel(\"Number of Patients\");\n",
    "\n",
    "# RIGHT plot: Bivariate exploration of vit_d_level vs back_pain\n",
    "plt.subplot(1, 2, 2)\n",
    "plt.title(\"Relationship of Vitamin D Level vs Back Pain\")\n",
    "bins_y = np.arange(0, 1.25, 0.5)\n",
    "plt.hist2d(data= regress_df, x=\"vit_d_level\", y=\"back_pain\", bins=[bins, bins_y], cmap= \"viridis_r\")\n",
    "plt.colorbar()\n",
    "plt.xlabel(\"Patient Vitamin D Level\")\n",
    "plt.ylabel(\"Patient Back Pain\")\n",
    "plt.yticks([0,1], [\"False\", \"True\"]);"
   ]
  },
  {
   "cell_type": "code",
   "execution_count": 24,
   "id": "0775d2a6",
   "metadata": {},
   "outputs": [
    {
     "data": {
      "image/png": "[encoded data removed]",
      "text/plain": [
       "<Figure size 1152x360 with 2 Axes>"
      ]
     },
     "metadata": {
      "needs_background": "light"
     },
     "output_type": "display_data"
    }
   ],
   "source": [
    "plt.figure(figsize = [16,5])\n",
    "plt.suptitle(\"Exploration of Patient's Initial Admissions\")\n",
    "\n",
    "# LEFT plot: Univariate exploration of initial_admin\n",
    "plt.subplot(1, 2, 1)\n",
    "plt.title(\"Patient Initial Admission Distribution\")\n",
    "init_admit_counts = df[\"Initial_admin\"].value_counts()\n",
    "plt.pie(init_admit_counts, labels=init_admit_counts.index, autopct='%1.1f%%', startangle=90, counterclock = False)\n",
    "plt.axis('square');\n",
    "\n",
    "# RIGHT plot: Bivariate exploration of Initial_admin vs back_pain\n",
    "plt.subplot(1, 2, 2)\n",
    "plt.title(\"Relationship of Initial Admission vs Back Pain\")\n",
    "sns.countplot(data = df, x=\"Initial_admin\", hue=\"BackPain\")\n",
    "plt.legend([\"No Back Pain\", \"Back Pain\"])\n",
    "plt.xlabel(\"Patient Admission Type\")\n",
    "plt.ylabel(\"Number of Patients\");"
   ]
  },
  {
   "cell_type": "code",
   "execution_count": 25,
   "id": "3078de60",
   "metadata": {},
   "outputs": [
    {
     "data": {
      "image/png": "[encoded data removed]",
      "text/plain": [
       "<Figure size 432x288 with 1 Axes>"
      ]
     },
     "metadata": {},
     "output_type": "display_data"
    }
   ],
   "source": [
    "# TOP plot: Univariate exploration of high bp\n",
    "plt.title(\"Patient High Blood Pressure Distribution\")\n",
    "high_bp_counts = df[\"HighBlood\"].value_counts()\n",
    "plt.pie(high_bp_counts, labels=[\"Normal BP\", \"High BP\"], autopct='%1.1f%%', startangle=90, counterclock = False)\n",
    "plt.axis('square');"
   ]
  },
  {
   "cell_type": "code",
   "execution_count": 26,
   "id": "aa3fb423",
   "metadata": {},
   "outputs": [
    {
     "data": {
      "image/png": "[encoded data removed]",
      "text/plain": [
       "<Figure size 432x288 with 3 Axes>"
      ]
     },
     "metadata": {
      "needs_background": "light"
     },
     "output_type": "display_data"
    }
   ],
   "source": [
    "# BOTTOM plot: Bivariate exploration of high bp vs back_pain\n",
    "temp_df = df[[\"HighBlood\", \"BackPain\"]].copy()\n",
    "high_bp_map = {1 : \"HighBP\", 0: \"NormBP\"}\n",
    "back_pain_map = {1 : \"Back Pain\", 0: \"No Back Pain\"}\n",
    "temp_df[\"HighBlood\"] = temp_df[\"HighBlood\"].map(high_bp_map)\n",
    "temp_df[\"BackPain\"] = temp_df[\"BackPain\"].map(back_pain_map)\n",
    "mosaic(temp_df, [\"HighBlood\", \"BackPain\"])\n",
    "plt.suptitle(\"Relationship of High Blood Pressure vs Back Pain\");"
   ]
  },
  {
   "cell_type": "code",
   "execution_count": 27,
   "id": "cc42fdc0",
   "metadata": {},
   "outputs": [
    {
     "data": {
      "image/png": "[encoded data removed]",
      "text/plain": [
       "<Figure size 1152x360 with 2 Axes>"
      ]
     },
     "metadata": {
      "needs_background": "light"
     },
     "output_type": "display_data"
    }
   ],
   "source": [
    "plt.figure(figsize = [16,5])\n",
    "plt.suptitle(\"Exploration of Patient's Complication Risk'\")\n",
    "\n",
    "# LEFT plot: Univariate exploration of complication_risk\n",
    "plt.subplot(1, 2, 1)\n",
    "plt.title(\"Patient Complication Risk Distribution\")\n",
    "comp_risk_counts = df[\"Complication_risk\"].value_counts()\n",
    "comp_risk_labels = [\"Medium\", \"High\", \"Low\"]\n",
    "plt.pie(comp_risk_counts, labels=comp_risk_counts.index, autopct='%1.1f%%', startangle=90, counterclock = False)\n",
    "plt.axis('square');\n",
    "\n",
    "# RIGHT plot: Bivariate exploration of complication_risk vs back_pain\n",
    "plt.subplot(1, 2, 2)\n",
    "plt.title(\"Relationship of Complication Risk vs Back Pain\")\n",
    "sns.countplot(data = df, x=\"Complication_risk\", hue=\"BackPain\")\n",
    "plt.legend([\"No Back Pain\", \"Back Pain\"])\n",
    "plt.xlabel(\"Patient Admission Type\")\n",
    "plt.ylabel(\"Number of Patients\");"
   ]
  },
  {
   "cell_type": "code",
   "execution_count": 28,
   "id": "c281b0d9",
   "metadata": {},
   "outputs": [
    {
     "data": {
      "image/png": "[encoded data removed]",
      "text/plain": [
       "<Figure size 432x288 with 1 Axes>"
      ]
     },
     "metadata": {},
     "output_type": "display_data"
    }
   ],
   "source": [
    "# TOP plot: Univariate exploration of overweight\n",
    "plt.title(\"Patient Overweight Distribution\")\n",
    "overweight_counts = df[\"Overweight\"].value_counts().sort_index()\n",
    "plt.pie(overweight_counts, labels=[\"Not Overweight\", \"Overweight\"], autopct='%1.1f%%', startangle=90, counterclock = False)\n",
    "plt.axis('square');"
   ]
  },
  {
   "cell_type": "code",
   "execution_count": 29,
   "id": "4961f739",
   "metadata": {},
   "outputs": [
    {
     "data": {
      "image/png": "[encoded data removed]",
      "text/plain": [
       "<Figure size 432x288 with 3 Axes>"
      ]
     },
     "metadata": {
      "needs_background": "light"
     },
     "output_type": "display_data"
    }
   ],
   "source": [
    "# BOTTOM plot: Bivariate exploration of overweight vs back_pain\n",
    "temp_df = df[[\"Overweight\", \"BackPain\"]].copy()\n",
    "overweight_map = {1 : \"Overweight\", 0: \"NotOverweight\"}\n",
    "back_pain_map = {1 : \"Back Pain\", 0: \"No Back Pain\"}\n",
    "temp_df[\"Overweight\"] = temp_df[\"Overweight\"].map(overweight_map)\n",
    "temp_df[\"BackPain\"] = temp_df[\"BackPain\"].map(back_pain_map)\n",
    "mosaic(temp_df, [\"Overweight\", \"BackPain\"])\n",
    "plt.suptitle(\"Relationship of Overweight vs Back Pain\");"
   ]
  },
  {
   "cell_type": "code",
   "execution_count": 30,
   "id": "a238b46d",
   "metadata": {},
   "outputs": [
    {
     "data": {
      "image/png": "[encoded data removed]",
      "text/plain": [
       "<Figure size 432x288 with 1 Axes>"
      ]
     },
     "metadata": {},
     "output_type": "display_data"
    }
   ],
   "source": [
    "# TOP plot: Univariate exploration of arthritis\n",
    "plt.title(\"Patient Arthritis Distribution\")\n",
    "arthritis_counts = df[\"Arthritis\"].value_counts().sort_index()\n",
    "plt.pie(arthritis_counts, labels=[\"No Arthritis\", \"Arthritis\"], autopct='%1.1f%%', startangle=90, counterclock = False)\n",
    "plt.axis('square');"
   ]
  },
  {
   "cell_type": "code",
   "execution_count": 31,
   "id": "cae3c4fd",
   "metadata": {},
   "outputs": [
    {
     "data": {
      "image/png": "[encoded data removed]",
      "text/plain": [
       "<Figure size 432x288 with 3 Axes>"
      ]
     },
     "metadata": {
      "needs_background": "light"
     },
     "output_type": "display_data"
    }
   ],
   "source": [
    "# BOTTOM plot: Bivariate exploration of arthritis vs back_pain\n",
    "temp_df = df[[\"Arthritis\", \"BackPain\"]].copy()\n",
    "arthritis_map = {1 : \"Arthritis\", 0: \"No Arthritis\"}\n",
    "back_pain_map = {1 : \"Back Pain\", 0: \"No Back Pain\"}\n",
    "temp_df[\"Arthritis\"] = temp_df[\"Arthritis\"].map(arthritis_map)\n",
    "temp_df[\"BackPain\"] = temp_df[\"BackPain\"].map(back_pain_map)\n",
    "mosaic(temp_df, [\"Arthritis\", \"BackPain\"])\n",
    "plt.suptitle(\"Relationship of Arthritis vs Back Pain\");"
   ]
  },
  {
   "cell_type": "code",
   "execution_count": 32,
   "id": "2125c5bb",
   "metadata": {},
   "outputs": [
    {
     "data": {
      "image/png": "[encoded data removed]",
      "text/plain": [
       "<Figure size 432x288 with 1 Axes>"
      ]
     },
     "metadata": {},
     "output_type": "display_data"
    }
   ],
   "source": [
    "# TOP plot: Univariate exploration of diabetes\n",
    "plt.title(\"Patient Diabetes Distribution\")\n",
    "diabetes_counts = df[\"Diabetes\"].value_counts().sort_index()\n",
    "plt.pie(diabetes_counts, labels=[\"No Diabetes\", \"Diabetes\"], autopct='%1.1f%%', startangle=90, counterclock = False)\n",
    "plt.axis('square');"
   ]
  },
  {
   "cell_type": "code",
   "execution_count": 33,
   "id": "e7aaa0a7",
   "metadata": {},
   "outputs": [
    {
     "data": {
      "image/png": "[encoded data removed]",
      "text/plain": [
       "<Figure size 432x288 with 3 Axes>"
      ]
     },
     "metadata": {
      "needs_background": "light"
     },
     "output_type": "display_data"
    }
   ],
   "source": [
    "# BOTTOM plot: Bivariate exploration of diabetes vs back_pain\n",
    "temp_df = df[[\"Diabetes\", \"BackPain\"]].copy()\n",
    "diabetes_map = {1 : \"Diabetes\", 0: \"No Diabetes\"}\n",
    "back_pain_map = {1 : \"Back Pain\", 0: \"No Back Pain\"}\n",
    "temp_df[\"Diabetes\"] = temp_df[\"Diabetes\"].map(diabetes_map)\n",
    "temp_df[\"BackPain\"] = temp_df[\"BackPain\"].map(back_pain_map)\n",
    "mosaic(temp_df, [\"Diabetes\", \"BackPain\"])\n",
    "plt.suptitle(\"Relationship of Diabetes vs Back Pain\");"
   ]
  },
  {
   "cell_type": "code",
   "execution_count": 34,
   "id": "47685b4e",
   "metadata": {},
   "outputs": [
    {
     "data": {
      "image/png": "[encoded data removed]",
      "text/plain": [
       "<Figure size 432x288 with 1 Axes>"
      ]
     },
     "metadata": {},
     "output_type": "display_data"
    }
   ],
   "source": [
    "# TOP plot: Univariate exploration of asthma\n",
    "plt.title(\"Patient Asthma Distribution\")\n",
    "asthma_counts = df[\"Asthma\"].value_counts()\n",
    "plt.pie(asthma_counts, labels=[\"No Asthma\", \"Asthma\"], autopct='%1.1f%%', startangle=90, counterclock = False)\n",
    "plt.axis('square');"
   ]
  },
  {
   "cell_type": "code",
   "execution_count": 35,
   "id": "86cdc2c8",
   "metadata": {},
   "outputs": [
    {
     "data": {
      "image/png": "[encoded data removed]",
      "text/plain": [
       "<Figure size 432x288 with 3 Axes>"
      ]
     },
     "metadata": {
      "needs_background": "light"
     },
     "output_type": "display_data"
    }
   ],
   "source": [
    "# BOTTOM plot: Bivariate exploration of asthma vs back_pain\n",
    "temp_df = df[[\"Asthma\", \"BackPain\"]].copy()\n",
    "asthma_map = {1 : \"Asthma\", 0: \"No Asthma\"}\n",
    "back_pain_map = {1 : \"Back Pain\", 0: \"No Back Pain\"}\n",
    "temp_df[\"Asthma\"] = temp_df[\"Asthma\"].map(asthma_map)\n",
    "temp_df[\"BackPain\"] = temp_df[\"BackPain\"].map(back_pain_map)\n",
    "mosaic(temp_df, [\"Asthma\", \"BackPain\"])\n",
    "plt.suptitle(\"Relationship of Asthma vs Back Pain\");"
   ]
  },
  {
   "cell_type": "code",
   "execution_count": 36,
   "id": "2aad0010",
   "metadata": {},
   "outputs": [
    {
     "data": {
      "image/png": "[encoded data removed]",
      "text/plain": [
       "<Figure size 1152x360 with 3 Axes>"
      ]
     },
     "metadata": {
      "needs_background": "light"
     },
     "output_type": "display_data"
    }
   ],
   "source": [
    "plt.figure(figsize = [16,5])\n",
    "plt.suptitle(\"Exploration of Patient's Days Hospitalized\")\n",
    "\n",
    "# LEFT plot: Univariate exploration of days_hospitalized\n",
    "plt.subplot(1, 2, 1)\n",
    "plt.title('Distribution of Patient Days Hospitalized')\n",
    "bins = np.arange(0, 75, 1)\n",
    "plt.hist(data=regress_df, x=\"days_hospitalized\", bins=bins)\n",
    "plt.xlabel('Patient Days Hospitalized')\n",
    "plt.ylabel(\"Number of Patients\");\n",
    "\n",
    "# RIGHT plot: Bivariate exploration of days_hospitalized vs back_pain\n",
    "plt.subplot(1, 2, 2)\n",
    "plt.title(\"Relationship of Days Hospitalized vs Back Pain\")\n",
    "bins_y = np.arange(0, 1.25, 0.5)\n",
    "plt.hist2d(data= regress_df, x=\"days_hospitalized\", y=\"back_pain\", bins=[bins, bins_y], cmap= \"viridis_r\")\n",
    "plt.colorbar()\n",
    "plt.xlabel(\"Patient Days Hospitalized\")\n",
    "plt.ylabel(\"Patient Back Pain\")\n",
    "plt.yticks([0,1], [\"False\", \"True\"]);"
   ]
  },
  {
   "cell_type": "markdown",
   "id": "431c3999",
   "metadata": {},
   "source": [
    "<a id=\"#PartC5\"></a>\n",
    "## C5: Copy of Prepared Data Set\n",
    "\n",
    "A copy of the prepared dataset is submitted alongside this analysis. The full cleaned dataframe can be found in full_clean.csv, while the reduced dataframe, containing only the variables I want to analyze (including dummies for the categorical columns) is in red_clean.csv. I've submitted both, as the rubric wasn't really clear on which it would be interested in, and my first PA for this class did not clarify the matter.  "
   ]
  },
  {
   "cell_type": "code",
   "execution_count": 37,
   "id": "8e4d74d8",
   "metadata": {},
   "outputs": [],
   "source": [
    "# Save dataframe to CSV, ignore index (if included, this will create an additional unnecessary column)\n",
    "df.to_csv('task2_full_clean.csv', index=False)\n",
    "\n",
    "# Save dataframe to CSV, ignore index (if included, this will create an additional unnecessary column)\n",
    "regress_df.to_csv('task2_red_clean.csv', index=False)"
   ]
  },
  {
   "cell_type": "markdown",
   "id": "76f0a26f",
   "metadata": {},
   "source": [
    "<a id=\"#PartD1\"></a>\n",
    "## D1: Initial Logistic Regression Model\n",
    "\n",
    "My goal in generating the initial logistic regression model is to include all of the explanatory variables that I highlighted earlier, and I can start eliminating them later on as I reduce the model. However, I immediately encountered an issue in that my attempt at generating a logistic regression model would fail due to perfect collinearity among some variables in the dataset [(Stack Overflow: logistic regression failure in statsmodel, 2019)](https://stats.stackexchange.com/questions/463324/logistic-regression-failed-in-statsmodel-but-works-in-sklearn-breast-cancer-dat) which would lead to a failure in the statsmodel `Logit()` function. So before I generate the Initial Logistic Regression Model, I have to eliminate any variable causing this issue, by checking the Variance Inflaction Factor (VIF). "
   ]
  },
  {
   "cell_type": "code",
   "execution_count": 38,
   "id": "29d2e07c",
   "metadata": {},
   "outputs": [
    {
     "name": "stderr",
     "output_type": "stream",
     "text": [
      "C:\\Users\\hasek\\anaconda3\\lib\\site-packages\\statsmodels\\stats\\outliers_influence.py:193: RuntimeWarning: divide by zero encountered in double_scalars\n",
      "  vif = 1. / (1. - r_squared_i)\n"
     ]
    },
    {
     "name": "stdout",
     "output_type": "stream",
     "text": [
      "                 feature        VIF\n",
      "0           num_children   1.929123\n",
      "1                    age   7.239627\n",
      "2            gender_male        inf\n",
      "3       gender_nonbinary        inf\n",
      "4            vit_d_level  16.747647\n",
      "5   initial_admit_observ   1.936484\n",
      "6    initial_admit_emerg   2.958501\n",
      "7                high_bp   1.685910\n",
      "8          comp_risk_low   1.615803\n",
      "9       comp_risk_medium   2.315867\n",
      "10            overweight   3.370225\n",
      "11             arthritis   1.551462\n",
      "12              diabetes   1.369961\n",
      "13                asthma   1.404353\n",
      "14     days_hospitalized   2.674516\n"
     ]
    }
   ],
   "source": [
    "# Warning exists for multicolinearity - check for VIF to see if variables should be eliminated due to high multicolinearity\n",
    "X = regress_df[[\"num_children\", \"age\", \"gender_male\", \"gender_nonbinary\", \"vit_d_level\", \"initial_admit_observ\", \"initial_admit_emerg\", \"high_bp\", \"comp_risk_low\", \"comp_risk_medium\", \"overweight\", \"arthritis\", \"diabetes\", \"asthma\", \"days_hospitalized\"]]\n",
    "\n",
    "vif_df = pd.DataFrame()\n",
    "vif_df[\"feature\"] = X.columns\n",
    "\n",
    "vif_df[\"VIF\"] = [variance_inflation_factor(X.values, i)\n",
    "for i in range(len(X.columns))]\n",
    "\n",
    "print(vif_df)"
   ]
  },
  {
   "cell_type": "markdown",
   "id": "ad8cbcd7",
   "metadata": {},
   "source": [
    "We can see that this indicates a perfect collinearity between gender_male and gender_nonbinary, indicated by the measurement of their collinearity coming back as \"infinite\". Removing one will let us continue, so I will remove gender_nonbinary, as the smaller of the two. I will address additional multicollinearity issues as we reduce the dataset from the initial model.  \n",
    "\n",
    "I've constructed an initial logistic regression model below, including all of the predictor values identified in section C2 (except for gender_nonbinary, which we just eliminated). This code was generated with assistance from [Susan Li's Logistic Regression in Python Tutorial in Towards Data Science, 2017](https://towardsdatascience.com/building-a-logistic-regression-in-python-step-by-step-becd4d56c9c8). This initial logistic regression model will be reduced to remove any observed issue sand focus only on variables which contribute meaningfully to the explanatory variable. "
   ]
  },
  {
   "cell_type": "code",
   "execution_count": 39,
   "id": "0c702253",
   "metadata": {},
   "outputs": [
    {
     "name": "stdout",
     "output_type": "stream",
     "text": [
      "Optimization terminated successfully.\n",
      "         Current function value: 0.676099\n",
      "         Iterations 4\n",
      "                           Logit Regression Results                           \n",
      "==============================================================================\n",
      "Dep. Variable:              back_pain   No. Observations:                10000\n",
      "Model:                          Logit   Df Residuals:                     9985\n",
      "Method:                           MLE   Df Model:                           14\n",
      "Date:                Mon, 28 Nov 2022   Pseudo R-squ.:                0.001868\n",
      "Time:                        20:13:54   Log-Likelihood:                -6761.0\n",
      "converged:                       True   LL-Null:                       -6773.6\n",
      "Covariance Type:            nonrobust   LLR p-value:                   0.03167\n",
      "========================================================================================\n",
      "                           coef    std err          z      P>|z|      [0.025      0.975]\n",
      "----------------------------------------------------------------------------------------\n",
      "num_children            -0.0074      0.009     -0.781      0.435      -0.026       0.011\n",
      "age                      0.0021      0.001      2.099      0.036       0.000       0.004\n",
      "gender_male             -0.0617      0.041     -1.513      0.130      -0.142       0.018\n",
      "vit_d_level             -0.0099      0.010     -0.976      0.329      -0.030       0.010\n",
      "initial_admit_observ     0.0709      0.058      1.224      0.221      -0.043       0.185\n",
      "initial_admit_emerg      0.0387      0.050      0.775      0.438      -0.059       0.136\n",
      "high_bp                  0.0137      0.041      0.332      0.740      -0.067       0.095\n",
      "comp_risk_low            0.0948      0.056      1.685      0.092      -0.015       0.205\n",
      "comp_risk_medium        -0.0028      0.046     -0.060      0.952      -0.094       0.088\n",
      "overweight               0.0460      0.045      1.023      0.306      -0.042       0.134\n",
      "arthritis               -0.0809      0.043     -1.900      0.057      -0.164       0.003\n",
      "diabetes                -0.0621      0.046     -1.357      0.175      -0.152       0.028\n",
      "asthma                   0.0643      0.045      1.436      0.151      -0.023       0.152\n",
      "days_hospitalized        0.0014      0.001      1.759      0.079      -0.000       0.003\n",
      "const                   -0.3615      0.202     -1.785      0.074      -0.758       0.035\n",
      "========================================================================================\n"
     ]
    }
   ],
   "source": [
    "y = regress_df.back_pain\n",
    "X = regress_df[[\"num_children\", \"age\", \"gender_male\", \"vit_d_level\", \"initial_admit_observ\", \"initial_admit_emerg\", \"high_bp\", \"comp_risk_low\", \"comp_risk_medium\", \"overweight\", \"arthritis\", \"diabetes\", \"asthma\", \"days_hospitalized\"]].assign(const=1)\n",
    "logit_model=sm.Logit(y,X)\n",
    "result=logit_model.fit()\n",
    "print(result.summary())"
   ]
  },
  {
   "cell_type": "markdown",
   "id": "009eadb8",
   "metadata": {},
   "source": [
    "<a id=\"#PartD2\"></a>\n",
    "## D2: Reduction Justification\n",
    "\n",
    "In reducing the logistic regression model from all of the collected explanatory variables, a good place to start is with eliminating any variables that have significant multicollinearity with each other, as this is a required assumption of any logistic regression analysis. I already eliminated gender_nonbinary because its multicollinearity was so high that it actually broke the logistic regression model, but we can use the same process of checking the Variance Inflation Factor (VIF) to check for other variables that need to be eliminated. "
   ]
  },
  {
   "cell_type": "code",
   "execution_count": 40,
   "id": "49d7c608",
   "metadata": {},
   "outputs": [
    {
     "name": "stdout",
     "output_type": "stream",
     "text": [
      "                 feature        VIF\n",
      "0           num_children   1.929123\n",
      "1                    age   7.239627\n",
      "2            gender_male   1.888921\n",
      "3            vit_d_level  16.747647\n",
      "4   initial_admit_observ   1.936484\n",
      "5    initial_admit_emerg   2.958501\n",
      "6                high_bp   1.685910\n",
      "7          comp_risk_low   1.615803\n",
      "8       comp_risk_medium   2.315867\n",
      "9             overweight   3.370225\n",
      "10             arthritis   1.551462\n",
      "11              diabetes   1.369961\n",
      "12                asthma   1.404353\n",
      "13     days_hospitalized   2.674516\n"
     ]
    }
   ],
   "source": [
    "# Check for VIF to see if variables should be eliminated due to high multicolinearity\n",
    "X = regress_df[[\"num_children\", \"age\", \"gender_male\", \"vit_d_level\", \"initial_admit_observ\", \"initial_admit_emerg\", \"high_bp\", \"comp_risk_low\", \"comp_risk_medium\", \"overweight\", \"arthritis\", \"diabetes\", \"asthma\", \"days_hospitalized\"]]\n",
    "\n",
    "vif_df = pd.DataFrame()\n",
    "vif_df[\"feature\"] = X.columns\n",
    "\n",
    "vif_df[\"VIF\"] = [variance_inflation_factor(X.values, i)\n",
    "for i in range(len(X.columns))]\n",
    "\n",
    "print(vif_df)"
   ]
  },
  {
   "cell_type": "code",
   "execution_count": 41,
   "id": "5b9a30b6",
   "metadata": {},
   "outputs": [
    {
     "name": "stdout",
     "output_type": "stream",
     "text": [
      "                 feature       VIF\n",
      "0           num_children  1.862879\n",
      "1                    age  5.185355\n",
      "2            gender_male  1.815807\n",
      "3   initial_admit_observ  1.781200\n",
      "4    initial_admit_emerg  2.602939\n",
      "5                high_bp  1.645824\n",
      "6          comp_risk_low  1.549846\n",
      "7       comp_risk_medium  2.172359\n",
      "8             overweight  3.032522\n",
      "9              arthritis  1.526370\n",
      "10              diabetes  1.354580\n",
      "11                asthma  1.384958\n",
      "12     days_hospitalized  2.508330\n"
     ]
    }
   ],
   "source": [
    "# Eliminated vit_d_level (VIF = 16.75), rerunning analysis to see if any VIF still above 10 \n",
    "X = regress_df[[\"num_children\", \"age\", \"gender_male\", \"initial_admit_observ\", \"initial_admit_emerg\", \"high_bp\", \"comp_risk_low\", \"comp_risk_medium\", \"overweight\", \"arthritis\", \"diabetes\", \"asthma\", \"days_hospitalized\"]]\n",
    "\n",
    "vif_df = pd.DataFrame()\n",
    "vif_df[\"feature\"] = X.columns\n",
    "\n",
    "vif_df[\"VIF\"] = [variance_inflation_factor(X.values, i)\n",
    "for i in range(len(X.columns))]\n",
    "\n",
    "print(vif_df)"
   ]
  },
  {
   "cell_type": "markdown",
   "id": "18581142",
   "metadata": {},
   "source": [
    "Patient vit_d_level also had a very high VIF, so that variable was eliminated as well. The next process will be reducing the variables which are not statistically significant to the model, through Backwards Stepwise Elimination\n",
    "\n",
    "This will be done by generating the logistic regression model and checking the p-values for each variable. I am interested in statistically significant variables, so I will use a threshold (alpha) of 0.10. Any p-value below this is considered statistically significant, while p-values above are not. The model will be generated, and the independent variable with the highest p-value will be eliminated. The model will then be generated again, and the process repeated until all p-values for included variables are below 0.10. \n",
    "\n",
    "NOTE: This process was going to initially seek values below an alpha of 0.05. However, I quickly found out that 1) this would eliminate all continuous variables, and 2) would eventually leave me with only a single categorical variable, though two other variables would be *just* over the 0.05 threshold. The rubric requires me to maintain a categorical and a continuous variable, so I decided to raise my alpha threshold to 0.10, in order to treat all of the variables consistently. This will impact the conclusions from this analysis, which will be addressed later, but it does work for reducing the logistic regression model. "
   ]
  },
  {
   "cell_type": "code",
   "execution_count": 42,
   "id": "93c222be",
   "metadata": {},
   "outputs": [
    {
     "name": "stdout",
     "output_type": "stream",
     "text": [
      "Optimization terminated successfully.\n",
      "         Current function value: 0.676146\n",
      "         Iterations 4\n",
      "                           Logit Regression Results                           \n",
      "==============================================================================\n",
      "Dep. Variable:              back_pain   No. Observations:                10000\n",
      "Model:                          Logit   Df Residuals:                     9986\n",
      "Method:                           MLE   Df Model:                           13\n",
      "Date:                Mon, 28 Nov 2022   Pseudo R-squ.:                0.001798\n",
      "Time:                        20:13:55   Log-Likelihood:                -6761.5\n",
      "converged:                       True   LL-Null:                       -6773.6\n",
      "Covariance Type:            nonrobust   LLR p-value:                   0.02804\n",
      "========================================================================================\n",
      "                           coef    std err          z      P>|z|      [0.025      0.975]\n",
      "----------------------------------------------------------------------------------------\n",
      "num_children            -0.0075      0.009     -0.791      0.429      -0.026       0.011\n",
      "age                      0.0021      0.001      2.089      0.037       0.000       0.004\n",
      "gender_male             -0.0612      0.041     -1.501      0.133      -0.141       0.019\n",
      "initial_admit_observ     0.0708      0.058      1.221      0.222      -0.043       0.184\n",
      "initial_admit_emerg      0.0375      0.050      0.753      0.452      -0.060       0.135\n",
      "high_bp                  0.0135      0.041      0.327      0.744      -0.068       0.095\n",
      "comp_risk_low            0.0951      0.056      1.690      0.091      -0.015       0.205\n",
      "comp_risk_medium        -0.0031      0.046     -0.066      0.947      -0.094       0.088\n",
      "overweight               0.0456      0.045      1.014      0.311      -0.043       0.134\n",
      "arthritis               -0.0809      0.043     -1.900      0.057      -0.164       0.003\n",
      "diabetes                -0.0610      0.046     -1.332      0.183      -0.151       0.029\n",
      "asthma                   0.0641      0.045      1.431      0.153      -0.024       0.152\n",
      "days_hospitalized        0.0014      0.001      1.762      0.078      -0.000       0.003\n",
      "const                   -0.5373      0.093     -5.803      0.000      -0.719      -0.356\n",
      "========================================================================================\n"
     ]
    }
   ],
   "source": [
    "# BACKWARD ELIMINATION # 1: Seek highest p-value above 0.10 (eliminated gender_nonbinary, vit_d_levels due to multicolinearity)\n",
    "y = regress_df.back_pain\n",
    "X = regress_df[[\"num_children\", \"age\", \"gender_male\", \"initial_admit_observ\", \"initial_admit_emerg\", \"high_bp\", \"comp_risk_low\", \"comp_risk_medium\", \"overweight\", \"arthritis\", \"diabetes\", \"asthma\", \"days_hospitalized\"]].assign(const=1)\n",
    "logit_model=sm.Logit(y,X)\n",
    "result=logit_model.fit()\n",
    "print(result.summary())"
   ]
  },
  {
   "cell_type": "code",
   "execution_count": 43,
   "id": "b9f85790",
   "metadata": {},
   "outputs": [
    {
     "name": "stdout",
     "output_type": "stream",
     "text": [
      "Optimization terminated successfully.\n",
      "         Current function value: 0.676147\n",
      "         Iterations 4\n",
      "                           Logit Regression Results                           \n",
      "==============================================================================\n",
      "Dep. Variable:              back_pain   No. Observations:                10000\n",
      "Model:                          Logit   Df Residuals:                     9987\n",
      "Method:                           MLE   Df Model:                           12\n",
      "Date:                Mon, 28 Nov 2022   Pseudo R-squ.:                0.001797\n",
      "Time:                        20:13:56   Log-Likelihood:                -6761.5\n",
      "converged:                       True   LL-Null:                       -6773.6\n",
      "Covariance Type:            nonrobust   LLR p-value:                   0.01824\n",
      "========================================================================================\n",
      "                           coef    std err          z      P>|z|      [0.025      0.975]\n",
      "----------------------------------------------------------------------------------------\n",
      "num_children            -0.0075      0.009     -0.790      0.429      -0.026       0.011\n",
      "age                      0.0021      0.001      2.089      0.037       0.000       0.004\n",
      "gender_male             -0.0612      0.041     -1.502      0.133      -0.141       0.019\n",
      "initial_admit_observ     0.0707      0.058      1.220      0.222      -0.043       0.184\n",
      "initial_admit_emerg      0.0375      0.050      0.752      0.452      -0.060       0.135\n",
      "high_bp                  0.0135      0.041      0.327      0.744      -0.068       0.095\n",
      "comp_risk_low            0.0968      0.050      1.955      0.051      -0.000       0.194\n",
      "overweight               0.0455      0.045      1.013      0.311      -0.043       0.134\n",
      "arthritis               -0.0810      0.043     -1.902      0.057      -0.164       0.002\n",
      "diabetes                -0.0610      0.046     -1.332      0.183      -0.151       0.029\n",
      "asthma                   0.0641      0.045      1.430      0.153      -0.024       0.152\n",
      "days_hospitalized        0.0014      0.001      1.762      0.078      -0.000       0.003\n",
      "const                   -0.5390      0.089     -6.053      0.000      -0.714      -0.364\n",
      "========================================================================================\n"
     ]
    }
   ],
   "source": [
    "# BACKWARD ELIMINATION # 2: Seek highest p-value above 0.10 (eliminated comp_risk_medium, p-value of 0.947)\n",
    "y = regress_df.back_pain\n",
    "X = regress_df[[\"num_children\", \"age\", \"gender_male\", \"initial_admit_observ\", \"initial_admit_emerg\", \"high_bp\", \"comp_risk_low\", \"overweight\", \"arthritis\", \"diabetes\", \"asthma\", \"days_hospitalized\"]].assign(const=1)\n",
    "logit_model=sm.Logit(y,X)\n",
    "result=logit_model.fit()\n",
    "print(result.summary())"
   ]
  },
  {
   "cell_type": "code",
   "execution_count": 44,
   "id": "e32a7a29",
   "metadata": {},
   "outputs": [
    {
     "name": "stdout",
     "output_type": "stream",
     "text": [
      "Optimization terminated successfully.\n",
      "         Current function value: 0.676152\n",
      "         Iterations 4\n",
      "                           Logit Regression Results                           \n",
      "==============================================================================\n",
      "Dep. Variable:              back_pain   No. Observations:                10000\n",
      "Model:                          Logit   Df Residuals:                     9988\n",
      "Method:                           MLE   Df Model:                           11\n",
      "Date:                Mon, 28 Nov 2022   Pseudo R-squ.:                0.001789\n",
      "Time:                        20:13:56   Log-Likelihood:                -6761.5\n",
      "converged:                       True   LL-Null:                       -6773.6\n",
      "Covariance Type:            nonrobust   LLR p-value:                   0.01176\n",
      "========================================================================================\n",
      "                           coef    std err          z      P>|z|      [0.025      0.975]\n",
      "----------------------------------------------------------------------------------------\n",
      "num_children            -0.0074      0.009     -0.789      0.430      -0.026       0.011\n",
      "age                      0.0021      0.001      2.092      0.036       0.000       0.004\n",
      "gender_male             -0.0612      0.041     -1.500      0.134      -0.141       0.019\n",
      "initial_admit_observ     0.0708      0.058      1.222      0.222      -0.043       0.184\n",
      "initial_admit_emerg      0.0375      0.050      0.753      0.451      -0.060       0.135\n",
      "comp_risk_low            0.0964      0.050      1.946      0.052      -0.001       0.193\n",
      "overweight               0.0459      0.045      1.022      0.307      -0.042       0.134\n",
      "arthritis               -0.0809      0.043     -1.900      0.057      -0.164       0.003\n",
      "diabetes                -0.0610      0.046     -1.334      0.182      -0.151       0.029\n",
      "asthma                   0.0641      0.045      1.432      0.152      -0.024       0.152\n",
      "days_hospitalized        0.0014      0.001      1.760      0.078      -0.000       0.003\n",
      "const                   -0.5339      0.088     -6.092      0.000      -0.706      -0.362\n",
      "========================================================================================\n"
     ]
    }
   ],
   "source": [
    "# BACKWARD ELIMINATION # 3: Seek highest p-value above 0.10 (eliminated high_bp, p-value of 0.744)\n",
    "y = regress_df.back_pain\n",
    "X = regress_df[[\"num_children\", \"age\", \"gender_male\", \"initial_admit_observ\", \"initial_admit_emerg\", \"comp_risk_low\", \"overweight\", \"arthritis\", \"diabetes\", \"asthma\", \"days_hospitalized\"]].assign(const=1)\n",
    "logit_model=sm.Logit(y,X)\n",
    "result=logit_model.fit()\n",
    "print(result.summary())"
   ]
  },
  {
   "cell_type": "code",
   "execution_count": 45,
   "id": "ab426e6e",
   "metadata": {},
   "outputs": [
    {
     "name": "stdout",
     "output_type": "stream",
     "text": [
      "Optimization terminated successfully.\n",
      "         Current function value: 0.676180\n",
      "         Iterations 4\n",
      "                           Logit Regression Results                           \n",
      "==============================================================================\n",
      "Dep. Variable:              back_pain   No. Observations:                10000\n",
      "Model:                          Logit   Df Residuals:                     9989\n",
      "Method:                           MLE   Df Model:                           10\n",
      "Date:                Mon, 28 Nov 2022   Pseudo R-squ.:                0.001747\n",
      "Time:                        20:13:56   Log-Likelihood:                -6761.8\n",
      "converged:                       True   LL-Null:                       -6773.6\n",
      "Covariance Type:            nonrobust   LLR p-value:                  0.008516\n",
      "========================================================================================\n",
      "                           coef    std err          z      P>|z|      [0.025      0.975]\n",
      "----------------------------------------------------------------------------------------\n",
      "num_children            -0.0074      0.009     -0.784      0.433      -0.026       0.011\n",
      "age                      0.0021      0.001      2.083      0.037       0.000       0.004\n",
      "gender_male             -0.0619      0.041     -1.518      0.129      -0.142       0.018\n",
      "initial_admit_observ     0.0457      0.047      0.965      0.335      -0.047       0.138\n",
      "comp_risk_low            0.0968      0.050      1.954      0.051      -0.000       0.194\n",
      "overweight               0.0457      0.045      1.018      0.309      -0.042       0.134\n",
      "arthritis               -0.0809      0.043     -1.900      0.057      -0.164       0.003\n",
      "diabetes                -0.0614      0.046     -1.341      0.180      -0.151       0.028\n",
      "asthma                   0.0640      0.045      1.428      0.153      -0.024       0.152\n",
      "days_hospitalized        0.0014      0.001      1.752      0.080      -0.000       0.003\n",
      "const                   -0.5076      0.080     -6.316      0.000      -0.665      -0.350\n",
      "========================================================================================\n"
     ]
    }
   ],
   "source": [
    "# BACKWARD ELIMINATION # 4: Seek highest p-value above 0.10 (eliminated initial_admit_emerg, p-value of 0.451)\n",
    "y = regress_df.back_pain\n",
    "X = regress_df[[\"num_children\", \"age\", \"gender_male\", \"initial_admit_observ\", \"comp_risk_low\", \"overweight\", \"arthritis\", \"diabetes\", \"asthma\", \"days_hospitalized\"]].assign(const=1)\n",
    "logit_model=sm.Logit(y,X)\n",
    "result=logit_model.fit()\n",
    "print(result.summary())"
   ]
  },
  {
   "cell_type": "code",
   "execution_count": 46,
   "id": "06377f95",
   "metadata": {},
   "outputs": [
    {
     "name": "stdout",
     "output_type": "stream",
     "text": [
      "Optimization terminated successfully.\n",
      "         Current function value: 0.676211\n",
      "         Iterations 4\n",
      "                           Logit Regression Results                           \n",
      "==============================================================================\n",
      "Dep. Variable:              back_pain   No. Observations:                10000\n",
      "Model:                          Logit   Df Residuals:                     9990\n",
      "Method:                           MLE   Df Model:                            9\n",
      "Date:                Mon, 28 Nov 2022   Pseudo R-squ.:                0.001702\n",
      "Time:                        20:13:57   Log-Likelihood:                -6762.1\n",
      "converged:                       True   LL-Null:                       -6773.6\n",
      "Covariance Type:            nonrobust   LLR p-value:                  0.006068\n",
      "========================================================================================\n",
      "                           coef    std err          z      P>|z|      [0.025      0.975]\n",
      "----------------------------------------------------------------------------------------\n",
      "age                      0.0020      0.001      2.076      0.038       0.000       0.004\n",
      "gender_male             -0.0617      0.041     -1.514      0.130      -0.142       0.018\n",
      "initial_admit_observ     0.0459      0.047      0.970      0.332      -0.047       0.139\n",
      "comp_risk_low            0.0968      0.050      1.954      0.051      -0.000       0.194\n",
      "overweight               0.0462      0.045      1.028      0.304      -0.042       0.134\n",
      "arthritis               -0.0811      0.043     -1.906      0.057      -0.165       0.002\n",
      "diabetes                -0.0622      0.046     -1.359      0.174      -0.152       0.027\n",
      "asthma                   0.0639      0.045      1.426      0.154      -0.024       0.152\n",
      "days_hospitalized        0.0013      0.001      1.735      0.083      -0.000       0.003\n",
      "const                   -0.5224      0.078     -6.685      0.000      -0.676      -0.369\n",
      "========================================================================================\n"
     ]
    }
   ],
   "source": [
    "# BACKWARD ELIMINATION # 5: Seek highest p-value above 0.10 (eliminated num_children, p-value of 0.433)\n",
    "y = regress_df.back_pain\n",
    "X = regress_df[[\"age\", \"gender_male\", \"initial_admit_observ\", \"comp_risk_low\", \"overweight\", \"arthritis\", \"diabetes\", \"asthma\", \"days_hospitalized\"]].assign(const=1)\n",
    "logit_model=sm.Logit(y,X)\n",
    "result=logit_model.fit()\n",
    "print(result.summary())"
   ]
  },
  {
   "cell_type": "code",
   "execution_count": 47,
   "id": "8be9b7f4",
   "metadata": {},
   "outputs": [
    {
     "name": "stdout",
     "output_type": "stream",
     "text": [
      "Optimization terminated successfully.\n",
      "         Current function value: 0.676258\n",
      "         Iterations 4\n",
      "                           Logit Regression Results                           \n",
      "==============================================================================\n",
      "Dep. Variable:              back_pain   No. Observations:                10000\n",
      "Model:                          Logit   Df Residuals:                     9991\n",
      "Method:                           MLE   Df Model:                            8\n",
      "Date:                Mon, 28 Nov 2022   Pseudo R-squ.:                0.001633\n",
      "Time:                        20:13:57   Log-Likelihood:                -6762.6\n",
      "converged:                       True   LL-Null:                       -6773.6\n",
      "Covariance Type:            nonrobust   LLR p-value:                  0.004702\n",
      "=====================================================================================\n",
      "                        coef    std err          z      P>|z|      [0.025      0.975]\n",
      "-------------------------------------------------------------------------------------\n",
      "age                   0.0020      0.001      2.067      0.039       0.000       0.004\n",
      "gender_male          -0.0623      0.041     -1.528      0.127      -0.142       0.018\n",
      "comp_risk_low         0.0967      0.050      1.953      0.051      -0.000       0.194\n",
      "overweight            0.0466      0.045      1.037      0.300      -0.041       0.135\n",
      "arthritis            -0.0811      0.043     -1.905      0.057      -0.164       0.002\n",
      "diabetes             -0.0621      0.046     -1.358      0.174      -0.152       0.028\n",
      "asthma                0.0639      0.045      1.427      0.153      -0.024       0.152\n",
      "days_hospitalized     0.0013      0.001      1.738      0.082      -0.000       0.003\n",
      "const                -0.5108      0.077     -6.616      0.000      -0.662      -0.359\n",
      "=====================================================================================\n"
     ]
    }
   ],
   "source": [
    "# BACKWARD ELIMINATION # 6: Seek highest p-value above 0.10 (eliminated initial_admit_observ, p-value of 0.332)\n",
    "y = regress_df.back_pain\n",
    "X = regress_df[[\"age\", \"gender_male\", \"comp_risk_low\", \"overweight\", \"arthritis\", \"diabetes\", \"asthma\", \"days_hospitalized\"]].assign(const=1)\n",
    "logit_model=sm.Logit(y,X)\n",
    "result=logit_model.fit()\n",
    "print(result.summary())"
   ]
  },
  {
   "cell_type": "code",
   "execution_count": 48,
   "id": "4f59f989",
   "metadata": {},
   "outputs": [
    {
     "name": "stdout",
     "output_type": "stream",
     "text": [
      "Optimization terminated successfully.\n",
      "         Current function value: 0.676312\n",
      "         Iterations 4\n",
      "                           Logit Regression Results                           \n",
      "==============================================================================\n",
      "Dep. Variable:              back_pain   No. Observations:                10000\n",
      "Model:                          Logit   Df Residuals:                     9992\n",
      "Method:                           MLE   Df Model:                            7\n",
      "Date:                Mon, 28 Nov 2022   Pseudo R-squ.:                0.001553\n",
      "Time:                        20:13:57   Log-Likelihood:                -6763.1\n",
      "converged:                       True   LL-Null:                       -6773.6\n",
      "Covariance Type:            nonrobust   LLR p-value:                  0.003711\n",
      "=====================================================================================\n",
      "                        coef    std err          z      P>|z|      [0.025      0.975]\n",
      "-------------------------------------------------------------------------------------\n",
      "age                   0.0020      0.001      2.059      0.040    9.76e-05       0.004\n",
      "gender_male          -0.0624      0.041     -1.531      0.126      -0.142       0.017\n",
      "comp_risk_low         0.0962      0.050      1.943      0.052      -0.001       0.193\n",
      "arthritis            -0.0809      0.043     -1.901      0.057      -0.164       0.003\n",
      "diabetes             -0.0625      0.046     -1.366      0.172      -0.152       0.027\n",
      "asthma                0.0646      0.045      1.442      0.149      -0.023       0.152\n",
      "days_hospitalized     0.0013      0.001      1.727      0.084      -0.000       0.003\n",
      "const                -0.4770      0.070     -6.819      0.000      -0.614      -0.340\n",
      "=====================================================================================\n"
     ]
    }
   ],
   "source": [
    "# BACKWARD ELIMINATION # 7: Seek highest p-value above 0.10 (eliminated overweight, p-value of 0.300)\n",
    "y = regress_df.back_pain\n",
    "X = regress_df[[\"age\", \"gender_male\", \"comp_risk_low\", \"arthritis\", \"diabetes\", \"asthma\", \"days_hospitalized\"]].assign(const=1)\n",
    "logit_model=sm.Logit(y,X)\n",
    "result=logit_model.fit()\n",
    "print(result.summary())"
   ]
  },
  {
   "cell_type": "code",
   "execution_count": 49,
   "id": "15c8996b",
   "metadata": {},
   "outputs": [
    {
     "name": "stdout",
     "output_type": "stream",
     "text": [
      "Optimization terminated successfully.\n",
      "         Current function value: 0.676406\n",
      "         Iterations 4\n",
      "                           Logit Regression Results                           \n",
      "==============================================================================\n",
      "Dep. Variable:              back_pain   No. Observations:                10000\n",
      "Model:                          Logit   Df Residuals:                     9993\n",
      "Method:                           MLE   Df Model:                            6\n",
      "Date:                Mon, 28 Nov 2022   Pseudo R-squ.:                0.001415\n",
      "Time:                        20:13:58   Log-Likelihood:                -6764.1\n",
      "converged:                       True   LL-Null:                       -6773.6\n",
      "Covariance Type:            nonrobust   LLR p-value:                  0.003887\n",
      "=====================================================================================\n",
      "                        coef    std err          z      P>|z|      [0.025      0.975]\n",
      "-------------------------------------------------------------------------------------\n",
      "age                   0.0020      0.001      2.054      0.040     9.3e-05       0.004\n",
      "gender_male          -0.0623      0.041     -1.529      0.126      -0.142       0.018\n",
      "comp_risk_low         0.0957      0.050      1.933      0.053      -0.001       0.193\n",
      "arthritis            -0.0814      0.043     -1.913      0.056      -0.165       0.002\n",
      "asthma                0.0635      0.045      1.419      0.156      -0.024       0.151\n",
      "days_hospitalized     0.0013      0.001      1.730      0.084      -0.000       0.003\n",
      "const                -0.4933      0.069     -7.157      0.000      -0.628      -0.358\n",
      "=====================================================================================\n"
     ]
    }
   ],
   "source": [
    "# BACKWARD ELIMINATION # 8: Seek highest p-value above 0.10 (eliminated diabetes, p-value of 0.172)\n",
    "y = regress_df.back_pain\n",
    "X = regress_df[[\"age\", \"gender_male\", \"comp_risk_low\", \"arthritis\", \"asthma\", \"days_hospitalized\"]].assign(const=1)\n",
    "logit_model=sm.Logit(y,X)\n",
    "result=logit_model.fit()\n",
    "print(result.summary())"
   ]
  },
  {
   "cell_type": "code",
   "execution_count": 50,
   "id": "63c3cfff",
   "metadata": {},
   "outputs": [
    {
     "name": "stdout",
     "output_type": "stream",
     "text": [
      "Optimization terminated successfully.\n",
      "         Current function value: 0.676506\n",
      "         Iterations 4\n",
      "                           Logit Regression Results                           \n",
      "==============================================================================\n",
      "Dep. Variable:              back_pain   No. Observations:                10000\n",
      "Model:                          Logit   Df Residuals:                     9994\n",
      "Method:                           MLE   Df Model:                            5\n",
      "Date:                Mon, 28 Nov 2022   Pseudo R-squ.:                0.001267\n",
      "Time:                        20:13:58   Log-Likelihood:                -6765.1\n",
      "converged:                       True   LL-Null:                       -6773.6\n",
      "Covariance Type:            nonrobust   LLR p-value:                  0.004210\n",
      "=====================================================================================\n",
      "                        coef    std err          z      P>|z|      [0.025      0.975]\n",
      "-------------------------------------------------------------------------------------\n",
      "age                   0.0020      0.001      2.067      0.039       0.000       0.004\n",
      "gender_male          -0.0620      0.041     -1.522      0.128      -0.142       0.018\n",
      "comp_risk_low         0.0960      0.050      1.939      0.053      -0.001       0.193\n",
      "arthritis            -0.0817      0.043     -1.921      0.055      -0.165       0.002\n",
      "days_hospitalized     0.0013      0.001      1.711      0.087      -0.000       0.003\n",
      "const                -0.4751      0.068     -7.018      0.000      -0.608      -0.342\n",
      "=====================================================================================\n"
     ]
    }
   ],
   "source": [
    "# BACKWARD ELIMINATION # 9: Seek highest p-value above 0.10 (eliminated asthma, p-value of 0.156)\n",
    "y = regress_df.back_pain\n",
    "X = regress_df[[\"age\", \"gender_male\", \"comp_risk_low\", \"arthritis\", \"days_hospitalized\"]].assign(const=1)\n",
    "logit_model=sm.Logit(y,X)\n",
    "result=logit_model.fit()\n",
    "print(result.summary())"
   ]
  },
  {
   "cell_type": "code",
   "execution_count": 51,
   "id": "46746c41",
   "metadata": {},
   "outputs": [
    {
     "name": "stdout",
     "output_type": "stream",
     "text": [
      "Optimization terminated successfully.\n",
      "         Current function value: 0.676622\n",
      "         Iterations 4\n",
      "                           Logit Regression Results                           \n",
      "==============================================================================\n",
      "Dep. Variable:              back_pain   No. Observations:                10000\n",
      "Model:                          Logit   Df Residuals:                     9995\n",
      "Method:                           MLE   Df Model:                            4\n",
      "Date:                Mon, 28 Nov 2022   Pseudo R-squ.:                0.001096\n",
      "Time:                        20:13:59   Log-Likelihood:                -6766.2\n",
      "converged:                       True   LL-Null:                       -6773.6\n",
      "Covariance Type:            nonrobust   LLR p-value:                  0.005042\n",
      "=====================================================================================\n",
      "                        coef    std err          z      P>|z|      [0.025      0.975]\n",
      "-------------------------------------------------------------------------------------\n",
      "age                   0.0021      0.001      2.092      0.036       0.000       0.004\n",
      "comp_risk_low         0.0964      0.049      1.947      0.052      -0.001       0.193\n",
      "arthritis            -0.0822      0.043     -1.933      0.053      -0.166       0.001\n",
      "days_hospitalized     0.0013      0.001      1.700      0.089      -0.000       0.003\n",
      "const                -0.5055      0.065     -7.813      0.000      -0.632      -0.379\n",
      "=====================================================================================\n"
     ]
    }
   ],
   "source": [
    "# BACKWARD ELIMINATION # 10: Seek highest p-value above 0.10 (eliminated gender_male, p-value of 0.128)\n",
    "y = regress_df.back_pain\n",
    "X = regress_df[[\"age\", \"comp_risk_low\", \"arthritis\", \"days_hospitalized\"]].assign(const=1)\n",
    "logit_model=sm.Logit(y,X)\n",
    "result=logit_model.fit()\n",
    "print(result.summary())"
   ]
  },
  {
   "cell_type": "markdown",
   "id": "2251199e",
   "metadata": {},
   "source": [
    "This model ends up being the final logistic regression model, because every variable has a p-value less than the alpha threshold that was previously set of 0.10. We can also compare this model to the initial model to verify if it is an improvement by checking the LLR p-value. The initial model had a LLR p-value of 0.03167, which is a sufficiently low p-value to tell us that the model is useful. However, the reduced logistic regression model, even using variables with a slightly higher p-value than I'd originally intended, has an even lower p-value, at 0.005042. This improvement indicates that the reduced model is more effective than the initial model. \n",
    "\n",
    "<a id=\"#PartD3\"></a>\n",
    "## D3: Reduced Logistic Regression Model\n",
    "\n",
    "The variables for gender_nonbinary and vit_d_levels were eliminated due to multicollinearity, while the variables for num_children, gender_male, initial_admit_emerg, initial_admit_observ, high_bp, comp_risk_medium, overweight, diabetes, and asthma were all eliminated for poor p-values. \n",
    "\n",
    "The variables remaining in the model and having the most impact on the dependent (y) variable of back pain are: \n",
    "- age\n",
    "- complication risk (low)\n",
    "- arthritis\n",
    "- days hospitalized\n",
    "\n",
    "These variables are seen in the final reduced logistic regression model, which has an improved (reduced) LLR p-value compared to the initial model: "
   ]
  },
  {
   "cell_type": "code",
   "execution_count": 52,
   "id": "a92c83ff",
   "metadata": {},
   "outputs": [
    {
     "name": "stdout",
     "output_type": "stream",
     "text": [
      "Optimization terminated successfully.\n",
      "         Current function value: 0.676622\n",
      "         Iterations 4\n",
      "                           Logit Regression Results                           \n",
      "==============================================================================\n",
      "Dep. Variable:              back_pain   No. Observations:                10000\n",
      "Model:                          Logit   Df Residuals:                     9995\n",
      "Method:                           MLE   Df Model:                            4\n",
      "Date:                Mon, 28 Nov 2022   Pseudo R-squ.:                0.001096\n",
      "Time:                        20:13:59   Log-Likelihood:                -6766.2\n",
      "converged:                       True   LL-Null:                       -6773.6\n",
      "Covariance Type:            nonrobust   LLR p-value:                  0.005042\n",
      "=====================================================================================\n",
      "                        coef    std err          z      P>|z|      [0.025      0.975]\n",
      "-------------------------------------------------------------------------------------\n",
      "age                   0.0021      0.001      2.092      0.036       0.000       0.004\n",
      "comp_risk_low         0.0964      0.049      1.947      0.052      -0.001       0.193\n",
      "arthritis            -0.0822      0.043     -1.933      0.053      -0.166       0.001\n",
      "days_hospitalized     0.0013      0.001      1.700      0.089      -0.000       0.003\n",
      "const                -0.5055      0.065     -7.813      0.000      -0.632      -0.379\n",
      "=====================================================================================\n"
     ]
    }
   ],
   "source": [
    "# All p-values for independent variables are < 0.10, this is the final reduced model\n",
    "y = regress_df.back_pain\n",
    "X = regress_df[[\"age\", \"comp_risk_low\", \"arthritis\", \"days_hospitalized\"]].assign(const=1)\n",
    "logit_model=sm.Logit(y,X)\n",
    "result=logit_model.fit()\n",
    "print(result.summary())"
   ]
  },
  {
   "cell_type": "markdown",
   "id": "d549b005",
   "metadata": {},
   "source": [
    "<a id=\"#PartE1\"></a>\n",
    "## E1: Analysis of Logistic Regression Models\n",
    "\n",
    "The initial logistic regression model had a lot of variables in it, not all of which were particularly important to the model itself. Two variables were removed due to multicolinearity concerns, vit_d_levels and gender_nonbinary. After those two were eliminated, other variables were removed from the initial model through a process of Backwards Stepwise Elimination based on the p-value of each remaining variable. The p-value of a variable indicates if it is statistically significant or not, with lower values being more significant. If a variable isn't statistically significant, then it doesn't need to be kept in the model. Eliminating the variable with the highest (worst) p-value can change how other variables interact, so this has to be done one at a time, rerunning the model after each variable is eliminated. This was done until every variable remaining had a p-value less than 0.10, indicating that the variable was statistically significant. While a threshold of 0.05 would be preferable, this would've resulted in only saving the age variable, and the rubric for this project requires the use of both categorical and continuous variables, so I had to raise the threshold to 0.10. \n",
    "\n",
    "The initial model and the reduced model can be evaluated in their performance relative to each other by examining the LLR p-value for each. The LLR p-value is similar to p-values used in other statistical contexts, in that a lower p-value indicates a lower likelihood of a result being based on random chance and instead a relationship being present. The initial logistic regression model had a LLR P-value of 0.03167. This p-value is low enough (below 0.05) to indicate that it is a \"useful\" model in predicting the values of the response variable, despite having several explanatory variables that had high p-values, indicating that they did not have a relationship with the response variable. However, the reduced model eliminates these variables that lacks a clear relationship, leading to the reduce model's LLR p-value being 0.005042, which is markedly lower than the initial model's p-value. This improvement indicates that the reduced model is more effective than the initial model in predicting the response variable's values, and this makes intuitive sense because we got rid of unnecessary or irrelevant variables. "
   ]
  },
  {
   "cell_type": "code",
   "execution_count": 53,
   "id": "1d415c9b",
   "metadata": {},
   "outputs": [
    {
     "name": "stdout",
     "output_type": "stream",
     "text": [
      "Accuracy of logistic regression classifier on test set: 0.58\n",
      "[[1739    0]\n",
      " [1261    0]]\n"
     ]
    }
   ],
   "source": [
    "X_train, X_test, y_train, y_test = train_test_split(X, y, test_size=0.3, random_state=42)\n",
    "logreg = LogisticRegression()\n",
    "logreg.fit(X_train, y_train)\n",
    "y_pred = logreg.predict(X_test)\n",
    "print('Accuracy of logistic regression classifier on test set: {:.2f}'.format(logreg.score(X_test, y_test)))\n",
    "final_matrix = confusion_matrix(y_test, y_pred)\n",
    "print(final_matrix)"
   ]
  },
  {
   "cell_type": "markdown",
   "id": "c53903cc",
   "metadata": {},
   "source": [
    "This confusion matrix indicates that this logistic regression model has made 1739 correct predictions, and 1261 incorrect predictions. The matrix indicates that the model has only predicted that patients will not have back pain, but this is actually slightly misleading. I did some experimentation outside of what is presented here in trying to figure out why this is. I found that if the test_size is increased to a very large amount (above 0.8, from its present value of 0.3), that the model will begin to start predicting some observed patients as having back pain. Such a test size is not reasonable, so I have dialed it back to a traditional value, as seen here. The resulting behavior is thus a result of the data set and the limitations of the model, rather than any apparently problem with my code. \n",
    "\n",
    "<a id=\"#PartE2\"></a>\n",
    "## E2: Model Outputs \n",
    "\n",
    "This part of the rubric is confusing, as I've literally been asked to provide these outputs in sections D and E1, and again in E3. I will provide these outputs again in section E3, where I compile all of the required code *and* the outputs of each. \n",
    "\n",
    "<a id=\"#PartE3\"></a>\n",
    "## E3: Model Code"
   ]
  },
  {
   "cell_type": "code",
   "execution_count": 54,
   "id": "bc813949",
   "metadata": {},
   "outputs": [
    {
     "name": "stdout",
     "output_type": "stream",
     "text": [
      "Optimization terminated successfully.\n",
      "         Current function value: 0.676099\n",
      "         Iterations 4\n",
      "                           Logit Regression Results                           \n",
      "==============================================================================\n",
      "Dep. Variable:              back_pain   No. Observations:                10000\n",
      "Model:                          Logit   Df Residuals:                     9985\n",
      "Method:                           MLE   Df Model:                           14\n",
      "Date:                Mon, 28 Nov 2022   Pseudo R-squ.:                0.001868\n",
      "Time:                        20:14:00   Log-Likelihood:                -6761.0\n",
      "converged:                       True   LL-Null:                       -6773.6\n",
      "Covariance Type:            nonrobust   LLR p-value:                   0.03167\n",
      "========================================================================================\n",
      "                           coef    std err          z      P>|z|      [0.025      0.975]\n",
      "----------------------------------------------------------------------------------------\n",
      "num_children            -0.0074      0.009     -0.781      0.435      -0.026       0.011\n",
      "age                      0.0021      0.001      2.099      0.036       0.000       0.004\n",
      "gender_male             -0.0617      0.041     -1.513      0.130      -0.142       0.018\n",
      "vit_d_level             -0.0099      0.010     -0.976      0.329      -0.030       0.010\n",
      "initial_admit_observ     0.0709      0.058      1.224      0.221      -0.043       0.185\n",
      "initial_admit_emerg      0.0387      0.050      0.775      0.438      -0.059       0.136\n",
      "high_bp                  0.0137      0.041      0.332      0.740      -0.067       0.095\n",
      "comp_risk_low            0.0948      0.056      1.685      0.092      -0.015       0.205\n",
      "comp_risk_medium        -0.0028      0.046     -0.060      0.952      -0.094       0.088\n",
      "overweight               0.0460      0.045      1.023      0.306      -0.042       0.134\n",
      "arthritis               -0.0809      0.043     -1.900      0.057      -0.164       0.003\n",
      "diabetes                -0.0621      0.046     -1.357      0.175      -0.152       0.028\n",
      "asthma                   0.0643      0.045      1.436      0.151      -0.023       0.152\n",
      "days_hospitalized        0.0014      0.001      1.759      0.079      -0.000       0.003\n",
      "const                   -0.3615      0.202     -1.785      0.074      -0.758       0.035\n",
      "========================================================================================\n"
     ]
    }
   ],
   "source": [
    "# Initial Logistic Regression Model\n",
    "y = regress_df.back_pain\n",
    "X = regress_df[[\"num_children\", \"age\", \"gender_male\", \"vit_d_level\", \"initial_admit_observ\", \"initial_admit_emerg\", \"high_bp\", \"comp_risk_low\", \"comp_risk_medium\", \"overweight\", \"arthritis\", \"diabetes\", \"asthma\", \"days_hospitalized\"]].assign(const=1)\n",
    "logit_model=sm.Logit(y,X)\n",
    "result=logit_model.fit()\n",
    "print(result.summary())"
   ]
  },
  {
   "cell_type": "code",
   "execution_count": 55,
   "id": "c92ff7a9",
   "metadata": {},
   "outputs": [
    {
     "name": "stdout",
     "output_type": "stream",
     "text": [
      "                 feature        VIF\n",
      "0           num_children   1.929123\n",
      "1                    age   7.239627\n",
      "2            gender_male   1.888921\n",
      "3            vit_d_level  16.747647\n",
      "4   initial_admit_observ   1.936484\n",
      "5    initial_admit_emerg   2.958501\n",
      "6                high_bp   1.685910\n",
      "7          comp_risk_low   1.615803\n",
      "8       comp_risk_medium   2.315867\n",
      "9             overweight   3.370225\n",
      "10             arthritis   1.551462\n",
      "11              diabetes   1.369961\n",
      "12                asthma   1.404353\n",
      "13     days_hospitalized   2.674516\n"
     ]
    }
   ],
   "source": [
    "# Check for VIF to see if variables should be eliminated due to high multicolinearity\n",
    "X = regress_df[[\"num_children\", \"age\", \"gender_male\", \"vit_d_level\", \"initial_admit_observ\", \"initial_admit_emerg\", \"high_bp\", \"comp_risk_low\", \"comp_risk_medium\", \"overweight\", \"arthritis\", \"diabetes\", \"asthma\", \"days_hospitalized\"]]\n",
    "\n",
    "vif_df = pd.DataFrame()\n",
    "vif_df[\"feature\"] = X.columns\n",
    "\n",
    "vif_df[\"VIF\"] = [variance_inflation_factor(X.values, i)\n",
    "for i in range(len(X.columns))]\n",
    "\n",
    "print(vif_df)"
   ]
  },
  {
   "cell_type": "code",
   "execution_count": 56,
   "id": "97e35a08",
   "metadata": {},
   "outputs": [
    {
     "name": "stdout",
     "output_type": "stream",
     "text": [
      "                 feature       VIF\n",
      "0           num_children  1.862879\n",
      "1                    age  5.185355\n",
      "2            gender_male  1.815807\n",
      "3   initial_admit_observ  1.781200\n",
      "4    initial_admit_emerg  2.602939\n",
      "5                high_bp  1.645824\n",
      "6          comp_risk_low  1.549846\n",
      "7       comp_risk_medium  2.172359\n",
      "8             overweight  3.032522\n",
      "9              arthritis  1.526370\n",
      "10              diabetes  1.354580\n",
      "11                asthma  1.384958\n",
      "12     days_hospitalized  2.508330\n"
     ]
    }
   ],
   "source": [
    "# Eliminated vit_d_level (VIF = 16.75), rerunning analysis to see if any VIF still above 10 \n",
    "X = regress_df[[\"num_children\", \"age\", \"gender_male\", \"initial_admit_observ\", \"initial_admit_emerg\", \"high_bp\", \"comp_risk_low\", \"comp_risk_medium\", \"overweight\", \"arthritis\", \"diabetes\", \"asthma\", \"days_hospitalized\"]]\n",
    "\n",
    "vif_df = pd.DataFrame()\n",
    "vif_df[\"feature\"] = X.columns\n",
    "\n",
    "vif_df[\"VIF\"] = [variance_inflation_factor(X.values, i)\n",
    "for i in range(len(X.columns))]\n",
    "\n",
    "print(vif_df)"
   ]
  },
  {
   "cell_type": "code",
   "execution_count": 57,
   "id": "bc3f1f69",
   "metadata": {},
   "outputs": [
    {
     "name": "stdout",
     "output_type": "stream",
     "text": [
      "Optimization terminated successfully.\n",
      "         Current function value: 0.676146\n",
      "         Iterations 4\n",
      "                           Logit Regression Results                           \n",
      "==============================================================================\n",
      "Dep. Variable:              back_pain   No. Observations:                10000\n",
      "Model:                          Logit   Df Residuals:                     9986\n",
      "Method:                           MLE   Df Model:                           13\n",
      "Date:                Mon, 28 Nov 2022   Pseudo R-squ.:                0.001798\n",
      "Time:                        20:14:03   Log-Likelihood:                -6761.5\n",
      "converged:                       True   LL-Null:                       -6773.6\n",
      "Covariance Type:            nonrobust   LLR p-value:                   0.02804\n",
      "========================================================================================\n",
      "                           coef    std err          z      P>|z|      [0.025      0.975]\n",
      "----------------------------------------------------------------------------------------\n",
      "num_children            -0.0075      0.009     -0.791      0.429      -0.026       0.011\n",
      "age                      0.0021      0.001      2.089      0.037       0.000       0.004\n",
      "gender_male             -0.0612      0.041     -1.501      0.133      -0.141       0.019\n",
      "initial_admit_observ     0.0708      0.058      1.221      0.222      -0.043       0.184\n",
      "initial_admit_emerg      0.0375      0.050      0.753      0.452      -0.060       0.135\n",
      "high_bp                  0.0135      0.041      0.327      0.744      -0.068       0.095\n",
      "comp_risk_low            0.0951      0.056      1.690      0.091      -0.015       0.205\n",
      "comp_risk_medium        -0.0031      0.046     -0.066      0.947      -0.094       0.088\n",
      "overweight               0.0456      0.045      1.014      0.311      -0.043       0.134\n",
      "arthritis               -0.0809      0.043     -1.900      0.057      -0.164       0.003\n",
      "diabetes                -0.0610      0.046     -1.332      0.183      -0.151       0.029\n",
      "asthma                   0.0641      0.045      1.431      0.153      -0.024       0.152\n",
      "days_hospitalized        0.0014      0.001      1.762      0.078      -0.000       0.003\n",
      "const                   -0.5373      0.093     -5.803      0.000      -0.719      -0.356\n",
      "========================================================================================\n"
     ]
    }
   ],
   "source": [
    "# BACKWARD ELIMINATION # 1: Seek highest p-value above 0.10 (eliminated gender_nonbinary, vit_d_levels due to multicolinearity)\n",
    "y = regress_df.back_pain\n",
    "X = regress_df[[\"num_children\", \"age\", \"gender_male\", \"initial_admit_observ\", \"initial_admit_emerg\", \"high_bp\", \"comp_risk_low\", \"comp_risk_medium\", \"overweight\", \"arthritis\", \"diabetes\", \"asthma\", \"days_hospitalized\"]].assign(const=1)\n",
    "logit_model=sm.Logit(y,X)\n",
    "result=logit_model.fit()\n",
    "print(result.summary())"
   ]
  },
  {
   "cell_type": "code",
   "execution_count": 58,
   "id": "ae4889ad",
   "metadata": {},
   "outputs": [
    {
     "name": "stdout",
     "output_type": "stream",
     "text": [
      "Optimization terminated successfully.\n",
      "         Current function value: 0.676147\n",
      "         Iterations 4\n",
      "                           Logit Regression Results                           \n",
      "==============================================================================\n",
      "Dep. Variable:              back_pain   No. Observations:                10000\n",
      "Model:                          Logit   Df Residuals:                     9987\n",
      "Method:                           MLE   Df Model:                           12\n",
      "Date:                Mon, 28 Nov 2022   Pseudo R-squ.:                0.001797\n",
      "Time:                        20:14:03   Log-Likelihood:                -6761.5\n",
      "converged:                       True   LL-Null:                       -6773.6\n",
      "Covariance Type:            nonrobust   LLR p-value:                   0.01824\n",
      "========================================================================================\n",
      "                           coef    std err          z      P>|z|      [0.025      0.975]\n",
      "----------------------------------------------------------------------------------------\n",
      "num_children            -0.0075      0.009     -0.790      0.429      -0.026       0.011\n",
      "age                      0.0021      0.001      2.089      0.037       0.000       0.004\n",
      "gender_male             -0.0612      0.041     -1.502      0.133      -0.141       0.019\n",
      "initial_admit_observ     0.0707      0.058      1.220      0.222      -0.043       0.184\n",
      "initial_admit_emerg      0.0375      0.050      0.752      0.452      -0.060       0.135\n",
      "high_bp                  0.0135      0.041      0.327      0.744      -0.068       0.095\n",
      "comp_risk_low            0.0968      0.050      1.955      0.051      -0.000       0.194\n",
      "overweight               0.0455      0.045      1.013      0.311      -0.043       0.134\n",
      "arthritis               -0.0810      0.043     -1.902      0.057      -0.164       0.002\n",
      "diabetes                -0.0610      0.046     -1.332      0.183      -0.151       0.029\n",
      "asthma                   0.0641      0.045      1.430      0.153      -0.024       0.152\n",
      "days_hospitalized        0.0014      0.001      1.762      0.078      -0.000       0.003\n",
      "const                   -0.5390      0.089     -6.053      0.000      -0.714      -0.364\n",
      "========================================================================================\n"
     ]
    }
   ],
   "source": [
    "# BACKWARD ELIMINATION # 2: Seek highest p-value above 0.10 (eliminated comp_risk_medium, p-value of 0.947)\n",
    "y = regress_df.back_pain\n",
    "X = regress_df[[\"num_children\", \"age\", \"gender_male\", \"initial_admit_observ\", \"initial_admit_emerg\", \"high_bp\", \"comp_risk_low\", \"overweight\", \"arthritis\", \"diabetes\", \"asthma\", \"days_hospitalized\"]].assign(const=1)\n",
    "logit_model=sm.Logit(y,X)\n",
    "result=logit_model.fit()\n",
    "print(result.summary())"
   ]
  },
  {
   "cell_type": "code",
   "execution_count": 59,
   "id": "465fb7a3",
   "metadata": {},
   "outputs": [
    {
     "name": "stdout",
     "output_type": "stream",
     "text": [
      "Optimization terminated successfully.\n",
      "         Current function value: 0.676152\n",
      "         Iterations 4\n",
      "                           Logit Regression Results                           \n",
      "==============================================================================\n",
      "Dep. Variable:              back_pain   No. Observations:                10000\n",
      "Model:                          Logit   Df Residuals:                     9988\n",
      "Method:                           MLE   Df Model:                           11\n",
      "Date:                Mon, 28 Nov 2022   Pseudo R-squ.:                0.001789\n",
      "Time:                        20:14:03   Log-Likelihood:                -6761.5\n",
      "converged:                       True   LL-Null:                       -6773.6\n",
      "Covariance Type:            nonrobust   LLR p-value:                   0.01176\n",
      "========================================================================================\n",
      "                           coef    std err          z      P>|z|      [0.025      0.975]\n",
      "----------------------------------------------------------------------------------------\n",
      "num_children            -0.0074      0.009     -0.789      0.430      -0.026       0.011\n",
      "age                      0.0021      0.001      2.092      0.036       0.000       0.004\n",
      "gender_male             -0.0612      0.041     -1.500      0.134      -0.141       0.019\n",
      "initial_admit_observ     0.0708      0.058      1.222      0.222      -0.043       0.184\n",
      "initial_admit_emerg      0.0375      0.050      0.753      0.451      -0.060       0.135\n",
      "comp_risk_low            0.0964      0.050      1.946      0.052      -0.001       0.193\n",
      "overweight               0.0459      0.045      1.022      0.307      -0.042       0.134\n",
      "arthritis               -0.0809      0.043     -1.900      0.057      -0.164       0.003\n",
      "diabetes                -0.0610      0.046     -1.334      0.182      -0.151       0.029\n",
      "asthma                   0.0641      0.045      1.432      0.152      -0.024       0.152\n",
      "days_hospitalized        0.0014      0.001      1.760      0.078      -0.000       0.003\n",
      "const                   -0.5339      0.088     -6.092      0.000      -0.706      -0.362\n",
      "========================================================================================\n"
     ]
    }
   ],
   "source": [
    "# BACKWARD ELIMINATION # 3: Seek highest p-value above 0.10 (eliminated high_bp, p-value of 0.744)\n",
    "y = regress_df.back_pain\n",
    "X = regress_df[[\"num_children\", \"age\", \"gender_male\", \"initial_admit_observ\", \"initial_admit_emerg\", \"comp_risk_low\", \"overweight\", \"arthritis\", \"diabetes\", \"asthma\", \"days_hospitalized\"]].assign(const=1)\n",
    "logit_model=sm.Logit(y,X)\n",
    "result=logit_model.fit()\n",
    "print(result.summary())"
   ]
  },
  {
   "cell_type": "code",
   "execution_count": 60,
   "id": "baae8abf",
   "metadata": {},
   "outputs": [
    {
     "name": "stdout",
     "output_type": "stream",
     "text": [
      "Optimization terminated successfully.\n",
      "         Current function value: 0.676180\n",
      "         Iterations 4\n",
      "                           Logit Regression Results                           \n",
      "==============================================================================\n",
      "Dep. Variable:              back_pain   No. Observations:                10000\n",
      "Model:                          Logit   Df Residuals:                     9989\n",
      "Method:                           MLE   Df Model:                           10\n",
      "Date:                Mon, 28 Nov 2022   Pseudo R-squ.:                0.001747\n",
      "Time:                        20:14:04   Log-Likelihood:                -6761.8\n",
      "converged:                       True   LL-Null:                       -6773.6\n",
      "Covariance Type:            nonrobust   LLR p-value:                  0.008516\n",
      "========================================================================================\n",
      "                           coef    std err          z      P>|z|      [0.025      0.975]\n",
      "----------------------------------------------------------------------------------------\n",
      "num_children            -0.0074      0.009     -0.784      0.433      -0.026       0.011\n",
      "age                      0.0021      0.001      2.083      0.037       0.000       0.004\n",
      "gender_male             -0.0619      0.041     -1.518      0.129      -0.142       0.018\n",
      "initial_admit_observ     0.0457      0.047      0.965      0.335      -0.047       0.138\n",
      "comp_risk_low            0.0968      0.050      1.954      0.051      -0.000       0.194\n",
      "overweight               0.0457      0.045      1.018      0.309      -0.042       0.134\n",
      "arthritis               -0.0809      0.043     -1.900      0.057      -0.164       0.003\n",
      "diabetes                -0.0614      0.046     -1.341      0.180      -0.151       0.028\n",
      "asthma                   0.0640      0.045      1.428      0.153      -0.024       0.152\n",
      "days_hospitalized        0.0014      0.001      1.752      0.080      -0.000       0.003\n",
      "const                   -0.5076      0.080     -6.316      0.000      -0.665      -0.350\n",
      "========================================================================================\n"
     ]
    }
   ],
   "source": [
    "# BACKWARD ELIMINATION # 4: Seek highest p-value above 0.10 (eliminated initial_admit_emerg, p-value of 0.451)\n",
    "y = regress_df.back_pain\n",
    "X = regress_df[[\"num_children\", \"age\", \"gender_male\", \"initial_admit_observ\", \"comp_risk_low\", \"overweight\", \"arthritis\", \"diabetes\", \"asthma\", \"days_hospitalized\"]].assign(const=1)\n",
    "logit_model=sm.Logit(y,X)\n",
    "result=logit_model.fit()\n",
    "print(result.summary())"
   ]
  },
  {
   "cell_type": "code",
   "execution_count": 61,
   "id": "171744bf",
   "metadata": {},
   "outputs": [
    {
     "name": "stdout",
     "output_type": "stream",
     "text": [
      "Optimization terminated successfully.\n",
      "         Current function value: 0.676211\n",
      "         Iterations 4\n",
      "                           Logit Regression Results                           \n",
      "==============================================================================\n",
      "Dep. Variable:              back_pain   No. Observations:                10000\n",
      "Model:                          Logit   Df Residuals:                     9990\n",
      "Method:                           MLE   Df Model:                            9\n",
      "Date:                Mon, 28 Nov 2022   Pseudo R-squ.:                0.001702\n",
      "Time:                        20:14:04   Log-Likelihood:                -6762.1\n",
      "converged:                       True   LL-Null:                       -6773.6\n",
      "Covariance Type:            nonrobust   LLR p-value:                  0.006068\n",
      "========================================================================================\n",
      "                           coef    std err          z      P>|z|      [0.025      0.975]\n",
      "----------------------------------------------------------------------------------------\n",
      "age                      0.0020      0.001      2.076      0.038       0.000       0.004\n",
      "gender_male             -0.0617      0.041     -1.514      0.130      -0.142       0.018\n",
      "initial_admit_observ     0.0459      0.047      0.970      0.332      -0.047       0.139\n",
      "comp_risk_low            0.0968      0.050      1.954      0.051      -0.000       0.194\n",
      "overweight               0.0462      0.045      1.028      0.304      -0.042       0.134\n",
      "arthritis               -0.0811      0.043     -1.906      0.057      -0.165       0.002\n",
      "diabetes                -0.0622      0.046     -1.359      0.174      -0.152       0.027\n",
      "asthma                   0.0639      0.045      1.426      0.154      -0.024       0.152\n",
      "days_hospitalized        0.0013      0.001      1.735      0.083      -0.000       0.003\n",
      "const                   -0.5224      0.078     -6.685      0.000      -0.676      -0.369\n",
      "========================================================================================\n"
     ]
    }
   ],
   "source": [
    "# BACKWARD ELIMINATION # 5: Seek highest p-value above 0.10 (eliminated num_children, p-value of 0.433)\n",
    "y = regress_df.back_pain\n",
    "X = regress_df[[\"age\", \"gender_male\", \"initial_admit_observ\", \"comp_risk_low\", \"overweight\", \"arthritis\", \"diabetes\", \"asthma\", \"days_hospitalized\"]].assign(const=1)\n",
    "logit_model=sm.Logit(y,X)\n",
    "result=logit_model.fit()\n",
    "print(result.summary())"
   ]
  },
  {
   "cell_type": "code",
   "execution_count": 62,
   "id": "ab9661f1",
   "metadata": {},
   "outputs": [
    {
     "name": "stdout",
     "output_type": "stream",
     "text": [
      "Optimization terminated successfully.\n",
      "         Current function value: 0.676258\n",
      "         Iterations 4\n",
      "                           Logit Regression Results                           \n",
      "==============================================================================\n",
      "Dep. Variable:              back_pain   No. Observations:                10000\n",
      "Model:                          Logit   Df Residuals:                     9991\n",
      "Method:                           MLE   Df Model:                            8\n",
      "Date:                Mon, 28 Nov 2022   Pseudo R-squ.:                0.001633\n",
      "Time:                        20:14:04   Log-Likelihood:                -6762.6\n",
      "converged:                       True   LL-Null:                       -6773.6\n",
      "Covariance Type:            nonrobust   LLR p-value:                  0.004702\n",
      "=====================================================================================\n",
      "                        coef    std err          z      P>|z|      [0.025      0.975]\n",
      "-------------------------------------------------------------------------------------\n",
      "age                   0.0020      0.001      2.067      0.039       0.000       0.004\n",
      "gender_male          -0.0623      0.041     -1.528      0.127      -0.142       0.018\n",
      "comp_risk_low         0.0967      0.050      1.953      0.051      -0.000       0.194\n",
      "overweight            0.0466      0.045      1.037      0.300      -0.041       0.135\n",
      "arthritis            -0.0811      0.043     -1.905      0.057      -0.164       0.002\n",
      "diabetes             -0.0621      0.046     -1.358      0.174      -0.152       0.028\n",
      "asthma                0.0639      0.045      1.427      0.153      -0.024       0.152\n",
      "days_hospitalized     0.0013      0.001      1.738      0.082      -0.000       0.003\n",
      "const                -0.5108      0.077     -6.616      0.000      -0.662      -0.359\n",
      "=====================================================================================\n"
     ]
    }
   ],
   "source": [
    "# BACKWARD ELIMINATION # 6: Seek highest p-value above 0.10 (eliminated initial_admit_observ, p-value of 0.332)\n",
    "y = regress_df.back_pain\n",
    "X = regress_df[[\"age\", \"gender_male\", \"comp_risk_low\", \"overweight\", \"arthritis\", \"diabetes\", \"asthma\", \"days_hospitalized\"]].assign(const=1)\n",
    "logit_model=sm.Logit(y,X)\n",
    "result=logit_model.fit()\n",
    "print(result.summary())"
   ]
  },
  {
   "cell_type": "code",
   "execution_count": 63,
   "id": "acad4dc6",
   "metadata": {},
   "outputs": [
    {
     "name": "stdout",
     "output_type": "stream",
     "text": [
      "Optimization terminated successfully.\n",
      "         Current function value: 0.676312\n",
      "         Iterations 4\n",
      "                           Logit Regression Results                           \n",
      "==============================================================================\n",
      "Dep. Variable:              back_pain   No. Observations:                10000\n",
      "Model:                          Logit   Df Residuals:                     9992\n",
      "Method:                           MLE   Df Model:                            7\n",
      "Date:                Mon, 28 Nov 2022   Pseudo R-squ.:                0.001553\n",
      "Time:                        20:14:04   Log-Likelihood:                -6763.1\n",
      "converged:                       True   LL-Null:                       -6773.6\n",
      "Covariance Type:            nonrobust   LLR p-value:                  0.003711\n",
      "=====================================================================================\n",
      "                        coef    std err          z      P>|z|      [0.025      0.975]\n",
      "-------------------------------------------------------------------------------------\n",
      "age                   0.0020      0.001      2.059      0.040    9.76e-05       0.004\n",
      "gender_male          -0.0624      0.041     -1.531      0.126      -0.142       0.017\n",
      "comp_risk_low         0.0962      0.050      1.943      0.052      -0.001       0.193\n",
      "arthritis            -0.0809      0.043     -1.901      0.057      -0.164       0.003\n",
      "diabetes             -0.0625      0.046     -1.366      0.172      -0.152       0.027\n",
      "asthma                0.0646      0.045      1.442      0.149      -0.023       0.152\n",
      "days_hospitalized     0.0013      0.001      1.727      0.084      -0.000       0.003\n",
      "const                -0.4770      0.070     -6.819      0.000      -0.614      -0.340\n",
      "=====================================================================================\n"
     ]
    }
   ],
   "source": [
    "# BACKWARD ELIMINATION # 7: Seek highest p-value above 0.10 (eliminated overweight, p-value of 0.300)\n",
    "y = regress_df.back_pain\n",
    "X = regress_df[[\"age\", \"gender_male\", \"comp_risk_low\", \"arthritis\", \"diabetes\", \"asthma\", \"days_hospitalized\"]].assign(const=1)\n",
    "logit_model=sm.Logit(y,X)\n",
    "result=logit_model.fit()\n",
    "print(result.summary())"
   ]
  },
  {
   "cell_type": "code",
   "execution_count": 64,
   "id": "4b5ebde5",
   "metadata": {},
   "outputs": [
    {
     "name": "stdout",
     "output_type": "stream",
     "text": [
      "Optimization terminated successfully.\n",
      "         Current function value: 0.676406\n",
      "         Iterations 4\n",
      "                           Logit Regression Results                           \n",
      "==============================================================================\n",
      "Dep. Variable:              back_pain   No. Observations:                10000\n",
      "Model:                          Logit   Df Residuals:                     9993\n",
      "Method:                           MLE   Df Model:                            6\n",
      "Date:                Mon, 28 Nov 2022   Pseudo R-squ.:                0.001415\n",
      "Time:                        20:14:05   Log-Likelihood:                -6764.1\n",
      "converged:                       True   LL-Null:                       -6773.6\n",
      "Covariance Type:            nonrobust   LLR p-value:                  0.003887\n",
      "=====================================================================================\n",
      "                        coef    std err          z      P>|z|      [0.025      0.975]\n",
      "-------------------------------------------------------------------------------------\n",
      "age                   0.0020      0.001      2.054      0.040     9.3e-05       0.004\n",
      "gender_male          -0.0623      0.041     -1.529      0.126      -0.142       0.018\n",
      "comp_risk_low         0.0957      0.050      1.933      0.053      -0.001       0.193\n",
      "arthritis            -0.0814      0.043     -1.913      0.056      -0.165       0.002\n",
      "asthma                0.0635      0.045      1.419      0.156      -0.024       0.151\n",
      "days_hospitalized     0.0013      0.001      1.730      0.084      -0.000       0.003\n",
      "const                -0.4933      0.069     -7.157      0.000      -0.628      -0.358\n",
      "=====================================================================================\n"
     ]
    }
   ],
   "source": [
    "# BACKWARD ELIMINATION # 8: Seek highest p-value above 0.10 (eliminated diabetes, p-value of 0.172)\n",
    "y = regress_df.back_pain\n",
    "X = regress_df[[\"age\", \"gender_male\", \"comp_risk_low\", \"arthritis\", \"asthma\", \"days_hospitalized\"]].assign(const=1)\n",
    "logit_model=sm.Logit(y,X)\n",
    "result=logit_model.fit()\n",
    "print(result.summary())"
   ]
  },
  {
   "cell_type": "code",
   "execution_count": 65,
   "id": "9e5e7f71",
   "metadata": {},
   "outputs": [
    {
     "name": "stdout",
     "output_type": "stream",
     "text": [
      "Optimization terminated successfully.\n",
      "         Current function value: 0.676506\n",
      "         Iterations 4\n",
      "                           Logit Regression Results                           \n",
      "==============================================================================\n",
      "Dep. Variable:              back_pain   No. Observations:                10000\n",
      "Model:                          Logit   Df Residuals:                     9994\n",
      "Method:                           MLE   Df Model:                            5\n",
      "Date:                Mon, 28 Nov 2022   Pseudo R-squ.:                0.001267\n",
      "Time:                        20:14:05   Log-Likelihood:                -6765.1\n",
      "converged:                       True   LL-Null:                       -6773.6\n",
      "Covariance Type:            nonrobust   LLR p-value:                  0.004210\n",
      "=====================================================================================\n",
      "                        coef    std err          z      P>|z|      [0.025      0.975]\n",
      "-------------------------------------------------------------------------------------\n",
      "age                   0.0020      0.001      2.067      0.039       0.000       0.004\n",
      "gender_male          -0.0620      0.041     -1.522      0.128      -0.142       0.018\n",
      "comp_risk_low         0.0960      0.050      1.939      0.053      -0.001       0.193\n",
      "arthritis            -0.0817      0.043     -1.921      0.055      -0.165       0.002\n",
      "days_hospitalized     0.0013      0.001      1.711      0.087      -0.000       0.003\n",
      "const                -0.4751      0.068     -7.018      0.000      -0.608      -0.342\n",
      "=====================================================================================\n"
     ]
    }
   ],
   "source": [
    "# BACKWARD ELIMINATION # 9: Seek highest p-value above 0.10 (eliminated asthma, p-value of 0.156)\n",
    "y = regress_df.back_pain\n",
    "X = regress_df[[\"age\", \"gender_male\", \"comp_risk_low\", \"arthritis\", \"days_hospitalized\"]].assign(const=1)\n",
    "logit_model=sm.Logit(y,X)\n",
    "result=logit_model.fit()\n",
    "print(result.summary())"
   ]
  },
  {
   "cell_type": "code",
   "execution_count": 66,
   "id": "39779edc",
   "metadata": {},
   "outputs": [
    {
     "name": "stdout",
     "output_type": "stream",
     "text": [
      "Optimization terminated successfully.\n",
      "         Current function value: 0.676622\n",
      "         Iterations 4\n",
      "                           Logit Regression Results                           \n",
      "==============================================================================\n",
      "Dep. Variable:              back_pain   No. Observations:                10000\n",
      "Model:                          Logit   Df Residuals:                     9995\n",
      "Method:                           MLE   Df Model:                            4\n",
      "Date:                Mon, 28 Nov 2022   Pseudo R-squ.:                0.001096\n",
      "Time:                        20:14:05   Log-Likelihood:                -6766.2\n",
      "converged:                       True   LL-Null:                       -6773.6\n",
      "Covariance Type:            nonrobust   LLR p-value:                  0.005042\n",
      "=====================================================================================\n",
      "                        coef    std err          z      P>|z|      [0.025      0.975]\n",
      "-------------------------------------------------------------------------------------\n",
      "age                   0.0021      0.001      2.092      0.036       0.000       0.004\n",
      "comp_risk_low         0.0964      0.049      1.947      0.052      -0.001       0.193\n",
      "arthritis            -0.0822      0.043     -1.933      0.053      -0.166       0.001\n",
      "days_hospitalized     0.0013      0.001      1.700      0.089      -0.000       0.003\n",
      "const                -0.5055      0.065     -7.813      0.000      -0.632      -0.379\n",
      "=====================================================================================\n"
     ]
    }
   ],
   "source": [
    "# BACKWARD ELIMINATION # 10: Seek highest p-value above 0.10 (eliminated gender_male, p-value of 0.128)\n",
    "y = regress_df.back_pain\n",
    "X = regress_df[[\"age\", \"comp_risk_low\", \"arthritis\", \"days_hospitalized\"]].assign(const=1)\n",
    "logit_model=sm.Logit(y,X)\n",
    "result=logit_model.fit()\n",
    "print(result.summary())"
   ]
  },
  {
   "cell_type": "code",
   "execution_count": 67,
   "id": "01effeb1",
   "metadata": {},
   "outputs": [
    {
     "name": "stdout",
     "output_type": "stream",
     "text": [
      "Optimization terminated successfully.\n",
      "         Current function value: 0.676622\n",
      "         Iterations 4\n",
      "                           Logit Regression Results                           \n",
      "==============================================================================\n",
      "Dep. Variable:              back_pain   No. Observations:                10000\n",
      "Model:                          Logit   Df Residuals:                     9995\n",
      "Method:                           MLE   Df Model:                            4\n",
      "Date:                Mon, 28 Nov 2022   Pseudo R-squ.:                0.001096\n",
      "Time:                        20:14:05   Log-Likelihood:                -6766.2\n",
      "converged:                       True   LL-Null:                       -6773.6\n",
      "Covariance Type:            nonrobust   LLR p-value:                  0.005042\n",
      "=====================================================================================\n",
      "                        coef    std err          z      P>|z|      [0.025      0.975]\n",
      "-------------------------------------------------------------------------------------\n",
      "age                   0.0021      0.001      2.092      0.036       0.000       0.004\n",
      "comp_risk_low         0.0964      0.049      1.947      0.052      -0.001       0.193\n",
      "arthritis            -0.0822      0.043     -1.933      0.053      -0.166       0.001\n",
      "days_hospitalized     0.0013      0.001      1.700      0.089      -0.000       0.003\n",
      "const                -0.5055      0.065     -7.813      0.000      -0.632      -0.379\n",
      "=====================================================================================\n"
     ]
    }
   ],
   "source": [
    "# All p-values for independent variables are < 0.10, this is the final reduced model\n",
    "y = regress_df.back_pain\n",
    "X = regress_df[[\"age\", \"comp_risk_low\", \"arthritis\", \"days_hospitalized\"]].assign(const=1)\n",
    "logit_model=sm.Logit(y,X)\n",
    "result=logit_model.fit()\n",
    "print(result.summary())"
   ]
  },
  {
   "cell_type": "code",
   "execution_count": 68,
   "id": "6d88b832",
   "metadata": {},
   "outputs": [
    {
     "name": "stdout",
     "output_type": "stream",
     "text": [
      "Accuracy of logistic regression classifier on test set: 0.58\n",
      "[[1739    0]\n",
      " [1261    0]]\n"
     ]
    }
   ],
   "source": [
    "X_train, X_test, y_train, y_test = train_test_split(X, y, test_size=0.3, random_state=42)\n",
    "logreg = LogisticRegression()\n",
    "logreg.fit(X_train, y_train)\n",
    "y_pred = logreg.predict(X_test)\n",
    "print('Accuracy of logistic regression classifier on test set: {:.2f}'.format(logreg.score(X_test, y_test)))\n",
    "final_matrix = confusion_matrix(y_test, y_pred)\n",
    "print(final_matrix)"
   ]
  },
  {
   "cell_type": "code",
   "execution_count": 69,
   "id": "ed3d7502",
   "metadata": {
    "scrolled": true
   },
   "outputs": [
    {
     "data": {
      "text/plain": [
       "age                  0.002062\n",
       "comp_risk_low        0.096356\n",
       "arthritis           -0.082235\n",
       "days_hospitalized    0.001315\n",
       "const               -0.505474\n",
       "dtype: float64"
      ]
     },
     "execution_count": 69,
     "metadata": {},
     "output_type": "execute_result"
    }
   ],
   "source": [
    "result.params"
   ]
  },
  {
   "cell_type": "code",
   "execution_count": 70,
   "id": "76c2b8f7",
   "metadata": {},
   "outputs": [
    {
     "name": "stdout",
     "output_type": "stream",
     "text": [
      "The odds ratio for age is 1.0021. Given this, the change in odds for back pain is 0.2064\n",
      "The odds ratio for complication risk - low is 1.1012. Given this, the change in odds for back pain is 10.1151\n",
      "The odds ratio for arthritis is 1.0857. Given this, the change in odds for back pain is 8.5711\n",
      "The odds ratio for days hospitalized is 1.0013. Given this, the change in odds for back pain is 0.1316\n"
     ]
    }
   ],
   "source": [
    "# Calculate odds ratios for each coefficient, for the purposes of satisfying F1's requirements\n",
    "print(f\"The odds ratio for age is {round(np.exp(0.002062), 4)}. Given this, the change in odds for back pain is {round((np.exp(0.002062) - 1) * 100, 4)}\")\n",
    "print(f\"The odds ratio for complication risk - low is {round(np.exp(0.096356), 4)}. Given this, the change in odds for back pain is {round((np.exp(0.096356) - 1) * 100, 4)}\")\n",
    "print(f\"The odds ratio for arthritis is {round(np.exp(0.082235), 4)}. Given this, the change in odds for back pain is {round((np.exp(0.082235) - 1) * 100, 4)}\")\n",
    "print(f\"The odds ratio for days hospitalized is {round(np.exp(0.001315), 4)}. Given this, the change in odds for back pain is {round((np.exp(0.001315) - 1) * 100, 4)}\")"
   ]
  },
  {
   "cell_type": "markdown",
   "id": "9f8e2922",
   "metadata": {},
   "source": [
    "<a id=\"#PartF1\"></a>\n",
    "## F1: Results of Data Analysis\n",
    "\n",
    "The logistic regression analysis yields the following equation for the reduced model:\n",
    "\n",
    "$$\n",
    "ln\\frac{\\hat{p}}{(1-\\hat{p})} = -0.5055 + 0.0021(patient\\hspace{1mm}age) + 0.0964(low\\hspace{1mm}complication\\hspace{1mm}risk) - 0.0822(arthritis) - 0.0013(days\\hspace{1mm}hospitalized)\n",
    "$$\n",
    "\n",
    "This can be used to conclude the following about each explanatory variable, by first calculating the odds ratio [as demonstrated by Darryl MacKenzie of Proteus](https://www.youtube.com/watch?v=RDY5MFVbRQE), and then using that odds ratio to calculate the change in odds as [demonstrated here by Zach of Statology](https://www.statology.org/interpret-odds-ratio-less-than-1/):\n",
    "- Keeping all things constant, for one unit increase in patient age, the odds of a patient having chronic back pain *increase* by 0.2064%. \n",
    "- Keeping all things constant, a patient with a low complication risk has an *increase* in their odds of having chronic back pain by 10.1151%.\n",
    "- Keeping all things constant, a patient with arthritis has an *increase* in their odds of having chronic back pain by 8.5711%.\n",
    "- Keeping all things constant, for one unit increase in days hospitalized, the odds of a patient having chronic back pain *increase* by 0.1316%.\n",
    "\n",
    "Regarding the statistical significance of this model, the final regression analysis has a LLR p-value of 0.005. This is below an alpha threshold of 0.05 (or even the 0.10 that was used for the backward stepwise regression to reduce this model). This indicates that the model is statistically significant and is not generated by random chance or sampling. \n",
    "\n",
    "Unfortunately, I do not believe that this model has any practical significance. As mentioned above, this model's accuracy of 0.58 in predicting back pain is very close to the ratio we see within the entire 10,000 row dataset, with 41.1% of patients having chronic back pain and 58.9% not having it. This seems to be because the predicting variables are so weak in their impact on the response variable that it ends up being very uncommon for the model to ever predict a patient as having back pain. Instead, the model seems to instead declare that nearly every single patient does not have back pain, accepting that it will be wrong approximately 41% of the time, in order to be correct approximately 59% of the time. This doesn't actually make for a useful model, as such an assumption could be made without the input of a logistic regression analysis. \n",
    "\n",
    "One limitation in this analysis is the age variable, which does not include any patients under the age of 18, nor any over the age of 89. Setting the minimum to 18 is a big deal, because where this analysis stated that a one unit increase in age increased the odds of a patient having chronic back pain by 0.2064%, this *actually* only applies to a one unit increase in age *while over the age of 18 and under the age of 89*. This is because the data has no information about patients under 18 or older than 89, so we cannot draw any conclusions about them. A full dataset covering a wider range of ages could eliminate this problem. \n",
    "\n",
    "Another limitation of this analysis is the usage of an alpha of 0.10 for discarding explanatory variables by their p-values, during the process of reducing the regression model. This was done because the rubric for this project requires both a continuous and a categorical variable to be preserved, and days_hospitalized was the last continuous variable available to me. If I had not raised the threshold from 0.05 to 0.10, this analysis would've ended up including only two variables: the patient's age and their low complication risk. This higher value for alpha makes it more likely that we commit a Type I error, rejecting a true null hypothesis in favor of an alternative. \n",
    "\n",
    "Possibly the most significant limitation of this analysis is the size of the dataset, especially the training set for the logistic regression model. This analysis found very small impacts by the explanatory variables on the response variable of chronic back pain. This was such that the model was only willing to guess a patient had back pain on a *very* small portion of results. This might be able to be improved with a larger dataset. This could be done by either gathering more patient data, or by upsampling data by using a SMOTE (Synthetic Minority Oversampling Technique) algorithm. As explained by [Susan Li at Towards Data Science](https://towardsdatascience.com/building-a-logistic-regression-in-python-step-by-step-becd4d56c9c8#:~:text=Over%2Dsampling%20using%20SMOTE), SMOTE creates synthetic samples from the minor class by randomly choosing one of the k-nearest-neighbors and using it to create a new observation which is similar to an existing observation, but randomly tweaked. Given that the hospital system should be able to provide additional patient data without issue, I would lean towards that direction, rather than generating new synthetic \"observations\". \n",
    "\n",
    "<a id=\"#PartF2\"></a>\n",
    "## F2: Recommended Action\n",
    "\n",
    "Given both the very broad nature of the research question and the issues with the analysis in terms of its limitations and practical significance, there is little to be recommended here based on the logistic regression analysis itself. I uncovered a small positive relationship between age and chronic back pain, which makes intuitive sense. Based on this, there could be an initiative to help make older patients aware of the possibility of chronic back pain and helping patients to avoid this, especially for the duration of their hospitalization. This is, however, something that the hospital should already be doing based on the intuitive sense of it. \n",
    "\n",
    "Beyond that, the only concrete recommendation I would make isn't about this analysis, so much as the dataset itself. Most of this information is overly broad in the way of being able to make determinations about patient care and treatment. Much of the data is irrelevant to treatment, at least in any but the most unusual and individualized circumstances, and the data that is there is largely about existing diagnoses as a yes/no consideration. The original rationale for this dataset, at least as it was communicated in D206, is that this is supposed to be helpful for determining why patients are readmitted. That likely requires a far, far more detailed dataset, and it would need to be much more concentrated on patient healthcare information. This comes with some concerns regarding healthcare information privacy and security, but getting into issues such as treatment types, initial complaint, number of nurse visits, etc. would likely be much more useful than many of the variables presented in this dataset.\n",
    "\n",
    "<a id=\"#PartG\"></a>\n",
    "## G: Panopto Recording\n",
    "\n",
    "My presentation of this performance assessment [can be viewed here, via Panopto.](https://wgu.hosted.panopto.com/Panopto/Pages/Viewer.aspx?id=9ac55b7b-f61e-46da-bc56-af5c0034f1d7) \n",
    "\n",
    "<a id=\"#PartH\"></a>\n",
    "## H: Code References\n",
    "\n",
    "[William Townsend D208 Task 1 Performance Assessment Submission](https://wgu.hosted.panopto.com/Panopto/Pages/Viewer.aspx?id=101d6f09-69e7-40d6-87f6-af50002eed51) was used for the code to clean up columns in the dataset.\n",
    "\n",
    "\n",
    "[Susan Li's Logistic Regression in Python Tutorial in Towards Data Science, 2017](https://towardsdatascience.com/building-a-logistic-regression-in-python-step-by-step-becd4d56c9c8) was used for assistance with generating the code to perform the logistic regression. \n",
    "\n",
    "<a id=\"#PartI\"></a>\n",
    "## I: Source References\n",
    "\n",
    "[Statology, 2021](https://www.statology.org/assumptions-of-logistic-regression/) was used for outlining the assumptions of a logistic regression. \n",
    "\n",
    "[WGU Courseware Resources](https://wgu.hosted.panopto.com/Panopto/Pages/Viewer.aspx?id=15e09c73-c5aa-439d-852f-af47001b8970) was used for some assistance with one hot encoding, as well as clarifying some of the particular requirements of this performance assessment in general.\n",
    "\n",
    "[Stack Overflow: logistic regression failure in statsmodel](https://stats.stackexchange.com/questions/463324/logistic-regression-failed-in-statsmodel-but-works-in-sklearn-breast-cancer-dat) was used for figuring out why my Logit() function was failing, due to the perfect collinearity of gender_nonbinary and gender_male. \n",
    "\n",
    "[Darryl MacKenzie of Proteus: How to Calculate Odds Ratios, Youtube](https://www.youtube.com/watch?v=RDY5MFVbRQE) was used to help calculate the odds ratio for an x variable, given that x variable's regression coefficienct. \n",
    "\n",
    "[Statology, 2021](https://www.statology.org/interpret-odds-ratio-less-than-1/) was used to calculate the change in odds for an increase in an x variable, given that x variable's odds ratio. \n",
    "\n",
    "[Susan Li's Logistic Regression in Python Tutorial in Towards Data Science, 2017](https://towardsdatascience.com/building-a-logistic-regression-in-python-step-by-step-becd4d56c9c8#:~:text=Over%2Dsampling%20using%20SMOTE)"
   ]
  }
 ],
 "metadata": {
  "kernelspec": {
   "display_name": "Python 3 (ipykernel)",
   "language": "python",
   "name": "python3"
  },
  "language_info": {
   "codemirror_mode": {
    "name": "ipython",
    "version": 3
   },
   "file_extension": ".py",
   "mimetype": "text/x-python",
   "name": "python",
   "nbconvert_exporter": "python",
   "pygments_lexer": "ipython3",
   "version": "3.8.8"
  }
 },
 "nbformat": 4,
 "nbformat_minor": 5
}
